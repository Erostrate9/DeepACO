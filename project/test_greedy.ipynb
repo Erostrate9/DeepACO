{
 "cells": [
  {
   "cell_type": "code",
   "execution_count": 1,
   "metadata": {},
   "outputs": [
    {
     "name": "stdout",
     "output_type": "stream",
     "text": [
      "Current Working Directory: /Users/erostrate9/Desktop/CSI5137B test/project/code/DeepACO/tsp\n",
      "Using device: cpu\n"
     ]
    }
   ],
   "source": [
    "import os\n",
    "os.chdir(\"../tsp\")\n",
    "print(\"Current Working Directory:\", os.getcwd())\n",
    "\n",
    "import time\n",
    "import torch\n",
    "from torch.distributions import Categorical, kl\n",
    "# from d2l.torch import Animator\n",
    "\n",
    "from net import Net\n",
    "from aco import ACO\n",
    "from utils import gen_pyg_data, load_test_dataset\n",
    "from greedy import test_greedy, GreedyTSP\n",
    "from tqdm import tqdm\n",
    "\n",
    "torch.manual_seed(12345)\n",
    "\n",
    "EPS = 1e-10\n",
    "device = 'cuda' if torch.cuda.is_available() else 'cpu'\n",
    "print(f'Using device: {device}')"
   ]
  },
  {
   "cell_type": "code",
   "execution_count": 3,
   "metadata": {},
   "outputs": [],
   "source": [
    "@torch.no_grad()\n",
    "def infer_instance(model, pyg_data, distances, n_ants, t_aco_diff, k_sparse=None):\n",
    "    if model:\n",
    "        model.eval()\n",
    "        heu_vec = model(pyg_data)\n",
    "        heu_mat = model.reshape(pyg_data, heu_vec) + EPS\n",
    "    \n",
    "        aco = ACO(\n",
    "        n_ants=n_ants,\n",
    "        heuristic=heu_mat,\n",
    "        distances=distances,\n",
    "        device=device\n",
    "        )\n",
    "    \n",
    "    else:\n",
    "        aco = ACO(\n",
    "        n_ants=n_ants,\n",
    "        distances=distances,\n",
    "        device=device\n",
    "        )\n",
    "        if k_sparse:\n",
    "            aco.sparsify(k_sparse)\n",
    "        \n",
    "    results = torch.zeros(size=(len(t_aco_diff),), device=device)\n",
    "    for i, t in enumerate(t_aco_diff):\n",
    "        best_cost = aco.run(t)\n",
    "        results[i] = best_cost\n",
    "    return results\n",
    "\n",
    "@torch.no_grad()\n",
    "def test(dataset, model, n_ants, t_aco, k_sparse=None):\n",
    "    _t_aco = [0] + t_aco\n",
    "    t_aco_diff = [_t_aco[i+1]-_t_aco[i] for i in range(len(_t_aco)-1)]\n",
    "    sum_results = torch.zeros(size=(len(t_aco_diff),), device=device)\n",
    "    start = time.time()\n",
    "    for pyg_data, distances in tqdm(dataset, desc=\"Testing Deep ACO Algorithm\"):\n",
    "    # for pyg_data, distances in dataset:\n",
    "        results = infer_instance(model, pyg_data, distances, n_ants, t_aco_diff, k_sparse)\n",
    "        sum_results += results\n",
    "    end = time.time()\n",
    "    \n",
    "    return sum_results / len(dataset), end-start\n"
   ]
  },
  {
   "cell_type": "code",
   "execution_count": 3,
   "metadata": {},
   "outputs": [
    {
     "name": "stderr",
     "output_type": "stream",
     "text": [
      "/Users/erostrate9/Desktop/CSI5137B test/project/code/DeepACO/tsp/utils.py:58: FutureWarning: You are using `torch.load` with `weights_only=False` (the current default value), which uses the default pickle module implicitly. It is possible to construct malicious pickle data which will execute arbitrary code during unpickling (See https://github.com/pytorch/pytorch/blob/main/SECURITY.md#untrusted-models for more details). In a future release, the default value for `weights_only` will be flipped to `True`. This limits the functions that could be executed during unpickling. Arbitrary objects will no longer be allowed to be loaded via this mode unless they are explicitly allowlisted by the user via `torch.serialization.add_safe_globals`. We recommend you start setting `weights_only=True` for any use case where you don't have full control of the loaded file. Please open an issue on GitHub for any issues related to this experimental feature.\n",
      "  val_tensor = torch.load(f'../data/tsp/testDataset-{n_node}.pt')\n",
      "/var/folders/c_/9pzrss116732p7dxch3kn_bc0000gn/T/ipykernel_19084/1750422048.py:11: FutureWarning: You are using `torch.load` with `weights_only=False` (the current default value), which uses the default pickle module implicitly. It is possible to construct malicious pickle data which will execute arbitrary code during unpickling (See https://github.com/pytorch/pytorch/blob/main/SECURITY.md#untrusted-models for more details). In a future release, the default value for `weights_only` will be flipped to `True`. This limits the functions that could be executed during unpickling. Arbitrary objects will no longer be allowed to be loaded via this mode unless they are explicitly allowlisted by the user via `torch.serialization.add_safe_globals`. We recommend you start setting `weights_only=True` for any use case where you don't have full control of the loaded file. Please open an issue on GitHub for any issues related to this experimental feature.\n",
      "  net_tsp.load_state_dict(torch.load(f'../pretrained/tsp/tsp{n_node}.pt', map_location=device))\n",
      "Testing Deep ACO Algorithm: 100%|██████████| 1280/1280 [03:16<00:00,  6.52it/s]"
     ]
    },
    {
     "name": "stdout",
     "output_type": "stream",
     "text": [
      "Deep ACO Model:\n",
      "Total duration:  196.23207020759583\n",
      "T=1, average cost is 3.9688363075256348.\n",
      "T=10, average cost is 3.8639824390411377.\n",
      "T=20, average cost is 3.856443405151367.\n",
      "T=30, average cost is 3.853475570678711.\n",
      "T=40, average cost is 3.851773500442505.\n",
      "T=50, average cost is 3.8507258892059326.\n",
      "T=100, average cost is 3.84824800491333.\n"
     ]
    },
    {
     "name": "stderr",
     "output_type": "stream",
     "text": [
      "\n"
     ]
    }
   ],
   "source": [
    "torch.set_printoptions(precision=3, sci_mode=False)\n",
    "# Configuration\n",
    "n_ants = 20\n",
    "n_node = 20\n",
    "k_sparse = 10\n",
    "t_aco = [1, 10, 20, 30, 40, 50, 100]\n",
    "test_list = load_test_dataset(n_node, k_sparse, device)\n",
    "\n",
    "# # Testing Deep ACO Model\n",
    "net_tsp = Net().to(device)\n",
    "net_tsp.load_state_dict(torch.load(f'../pretrained/tsp/tsp{n_node}.pt', map_location=device))\n",
    "avg_aco_best, duration = test(test_list, net_tsp, n_ants, t_aco, k_sparse)\n",
    "print('Deep ACO Model:')\n",
    "print('Total duration: ', duration)\n",
    "for i, t in enumerate(t_aco):\n",
    "    print(f\"T={t}, average cost is {avg_aco_best[i]}.\")"
   ]
  },
  {
   "cell_type": "code",
   "execution_count": null,
   "metadata": {},
   "outputs": [
    {
     "name": "stdout",
     "output_type": "stream",
     "text": [
      "GreedyTSP is using: cpu\n"
     ]
    },
    {
     "name": "stderr",
     "output_type": "stream",
     "text": [
      "Testing Greedy Algorithm: 100%|██████████| 1280/1280 [00:00<00:00, 6741.46it/s]"
     ]
    },
    {
     "name": "stdout",
     "output_type": "stream",
     "text": [
      "--------Greedy Algorithm:--------\n",
      "Total duration:  0.19110488891601562\n",
      "Average cost is 4.539401644987083.\n"
     ]
    },
    {
     "name": "stderr",
     "output_type": "stream",
     "text": [
      "\n"
     ]
    }
   ],
   "source": [
    "# Testing Greedy Algorithm\n",
    "greedy_tsp = GreedyTSP(device=device)\n",
    "avg_greedy_cost, greedy_duration = test_greedy(test_list, greedy_tsp, show_progress=True)\n",
    "print('--------Greedy Algorithm:--------')\n",
    "print('Total duration: ', greedy_duration)\n",
    "print(f\"Average cost is {avg_greedy_cost}.\")"
   ]
  },
  {
   "cell_type": "markdown",
   "metadata": {},
   "source": [
    "# Across Scale"
   ]
  },
  {
   "cell_type": "code",
   "execution_count": 5,
   "metadata": {},
   "outputs": [
    {
     "name": "stderr",
     "output_type": "stream",
     "text": [
      "/Users/erostrate9/Desktop/CSI5137B test/project/code/DeepACO/tsp/utils.py:58: FutureWarning: You are using `torch.load` with `weights_only=False` (the current default value), which uses the default pickle module implicitly. It is possible to construct malicious pickle data which will execute arbitrary code during unpickling (See https://github.com/pytorch/pytorch/blob/main/SECURITY.md#untrusted-models for more details). In a future release, the default value for `weights_only` will be flipped to `True`. This limits the functions that could be executed during unpickling. Arbitrary objects will no longer be allowed to be loaded via this mode unless they are explicitly allowlisted by the user via `torch.serialization.add_safe_globals`. We recommend you start setting `weights_only=True` for any use case where you don't have full control of the loaded file. Please open an issue on GitHub for any issues related to this experimental feature.\n",
      "  val_tensor = torch.load(f'../data/tsp/testDataset-{n_node}.pt')\n",
      "/var/folders/c_/9pzrss116732p7dxch3kn_bc0000gn/T/ipykernel_19084/968638464.py:12: FutureWarning: You are using `torch.load` with `weights_only=False` (the current default value), which uses the default pickle module implicitly. It is possible to construct malicious pickle data which will execute arbitrary code during unpickling (See https://github.com/pytorch/pytorch/blob/main/SECURITY.md#untrusted-models for more details). In a future release, the default value for `weights_only` will be flipped to `True`. This limits the functions that could be executed during unpickling. Arbitrary objects will no longer be allowed to be loaded via this mode unless they are explicitly allowlisted by the user via `torch.serialization.add_safe_globals`. We recommend you start setting `weights_only=True` for any use case where you don't have full control of the loaded file. Please open an issue on GitHub for any issues related to this experimental feature.\n",
      "  net_tsp.load_state_dict(torch.load(f'../pretrained/tsp/tsp{pretrain_n_node}.pt', map_location=device))\n",
      "Testing Deep ACO Algorithm: 100%|██████████| 1280/1280 [08:07<00:00,  2.63it/s]"
     ]
    },
    {
     "name": "stdout",
     "output_type": "stream",
     "text": [
      "Deep ACO Model:\n",
      "Total duration:  487.3229932785034\n",
      "T=1, average cost is 10.886425971984863.\n",
      "T=20, average cost is 9.681572914123535.\n",
      "T=50, average cost is 9.40514087677002.\n"
     ]
    },
    {
     "name": "stderr",
     "output_type": "stream",
     "text": [
      "\n"
     ]
    }
   ],
   "source": [
    "torch.set_printoptions(precision=3, sci_mode=False)\n",
    "# Configuration\n",
    "pretrain_n_node = 20\n",
    "n_ants = 20\n",
    "test_n_node = 100\n",
    "k_sparse = test_n_node-1\n",
    "t_aco = [1, 20, 50,]\n",
    "test_list = load_test_dataset(test_n_node, k_sparse, device)\n",
    "\n",
    "# # Testing Deep ACO Model\n",
    "net_tsp = Net().to(device)\n",
    "net_tsp.load_state_dict(torch.load(f'../pretrained/tsp/tsp{pretrain_n_node}.pt', map_location=device))\n",
    "avg_aco_best, duration = test(test_list, net_tsp, n_ants, t_aco, k_sparse)\n",
    "print('Deep ACO Model:')\n",
    "print('Total duration: ', duration)\n",
    "for i, t in enumerate(t_aco):\n",
    "    print(f\"T={t}, average cost is {avg_aco_best[i]}.\")"
   ]
  },
  {
   "cell_type": "code",
   "execution_count": 6,
   "metadata": {},
   "outputs": [
    {
     "name": "stdout",
     "output_type": "stream",
     "text": [
      "GreedyTSP is using: cpu\n"
     ]
    },
    {
     "name": "stderr",
     "output_type": "stream",
     "text": [
      "Testing Greedy Algorithm: 100%|██████████| 1280/1280 [00:00<00:00, 1348.60it/s]"
     ]
    },
    {
     "name": "stdout",
     "output_type": "stream",
     "text": [
      "--------Greedy Algorithm:--------\n",
      "Total duration:  0.9518709182739258\n",
      "Average cost is 9.67953964085406.\n"
     ]
    },
    {
     "name": "stderr",
     "output_type": "stream",
     "text": [
      "\n"
     ]
    }
   ],
   "source": [
    "# Testing Greedy Algorithm\n",
    "greedy_tsp = GreedyTSP(device=device)\n",
    "avg_greedy_cost, greedy_duration = test_greedy(test_list, greedy_tsp, show_progress=True)\n",
    "print('--------Greedy Algorithm:--------')\n",
    "print('Total duration: ', greedy_duration)\n",
    "print(f\"Average cost is {avg_greedy_cost}.\")"
   ]
  },
  {
   "cell_type": "markdown",
   "metadata": {},
   "source": [
    "# Test TSPLIB"
   ]
  },
  {
   "cell_type": "code",
   "execution_count": null,
   "metadata": {},
   "outputs": [
    {
     "name": "stderr",
     "output_type": "stream",
     "text": [
      "/var/folders/c_/9pzrss116732p7dxch3kn_bc0000gn/T/ipykernel_224/4251977785.py:15: FutureWarning: You are using `torch.load` with `weights_only=False` (the current default value), which uses the default pickle module implicitly. It is possible to construct malicious pickle data which will execute arbitrary code during unpickling (See https://github.com/pytorch/pytorch/blob/main/SECURITY.md#untrusted-models for more details). In a future release, the default value for `weights_only` will be flipped to `True`. This limits the functions that could be executed during unpickling. Arbitrary objects will no longer be allowed to be loaded via this mode unless they are explicitly allowlisted by the user via `torch.serialization.add_safe_globals`. We recommend you start setting `weights_only=True` for any use case where you don't have full control of the loaded file. Please open an issue on GitHub for any issues related to this experimental feature.\n",
      "  net_tsp.load_state_dict(torch.load(f'../pretrained/tsp/tsp{pretrain_n_node}.pt', map_location=device))\n",
      "Testing Deep ACO Algorithm: 100%|██████████| 1/1 [00:00<00:00,  1.36it/s]"
     ]
    },
    {
     "name": "stdout",
     "output_type": "stream",
     "text": [
      "Deep ACO Model:\n",
      "Total duration:  0.7372159957885742\n",
      "T=1, average cost is 153364.859375.\n",
      "T=20, average cost is 141596.78125.\n",
      "T=50, average cost is 141596.78125.\n",
      "GreedyTSP is using: cpu\n",
      "--------Greedy Algorithm:--------\n",
      "Total duration:  0.0017459392547607422\n",
      "Average cost is 26856.388557434082.\n"
     ]
    },
    {
     "name": "stderr",
     "output_type": "stream",
     "text": [
      "\n"
     ]
    }
   ],
   "source": [
    "from utils import gen_pyg_data_fully_connected, load_single_test_instance\n",
    "\n",
    "file_path='../data/tsp/TSPLIB/kroA100.tsp'\n",
    "tsplib_test_list = load_single_test_instance(file_path)\n",
    "\n",
    "torch.set_printoptions(precision=3, sci_mode=False)\n",
    "# Configuration\n",
    "pretrain_n_node = 100\n",
    "n_ants = 50\n",
    "t_aco = [1, 20, 50,]\n",
    "k_sparse = len(tsplib_test_list[0][0].edge_attr)//len(tsplib_test_list[0][1])\n",
    "\n",
    "# Testing Deep ACO Model\n",
    "net_tsp = Net().to(device)\n",
    "net_tsp.load_state_dict(torch.load(f'../pretrained/tsp/tsp{pretrain_n_node}.pt', map_location=device))\n",
    "avg_aco_best, duration = test(tsplib_test_list, net_tsp, n_ants, t_aco, k_sparse)\n",
    "print('Deep ACO Model:')\n",
    "print('Total duration: ', duration)\n",
    "for i, t in enumerate(t_aco):\n",
    "    print(f\"T={t}, average cost is {avg_aco_best[i]}.\")\n",
    "\n",
    "greedy_tsp = GreedyTSP(device=device)\n",
    "avg_greedy_cost, greedy_duration = test_greedy(tsplib_test_list, greedy_tsp, show_progress=False)\n",
    "print('--------Greedy Algorithm:--------')\n",
    "print('Total duration: ', greedy_duration)\n",
    "print(f\"Average cost is {avg_greedy_cost}.\")"
   ]
  }
 ],
 "metadata": {
  "kernelspec": {
   "display_name": "gfacs",
   "language": "python",
   "name": "python3"
  },
  "language_info": {
   "codemirror_mode": {
    "name": "ipython",
    "version": 3
   },
   "file_extension": ".py",
   "mimetype": "text/x-python",
   "name": "python",
   "nbconvert_exporter": "python",
   "pygments_lexer": "ipython3",
   "version": "3.11.10"
  }
 },
 "nbformat": 4,
 "nbformat_minor": 2
}

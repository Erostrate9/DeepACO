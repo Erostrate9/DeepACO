{
 "cells": [
  {
   "cell_type": "code",
   "execution_count": 1,
   "metadata": {},
   "outputs": [
    {
     "name": "stdout",
     "output_type": "stream",
     "text": [
      "Current Working Directory: /Users/erostrate9/Desktop/CSI5137B test/project/code/DeepACO/tsp\n",
      "Using device: cpu\n"
     ]
    }
   ],
   "source": [
    "import os\n",
    "os.chdir(\"../tsp\")\n",
    "print(\"Current Working Directory:\", os.getcwd())\n",
    "\n",
    "import time\n",
    "import torch\n",
    "from torch.distributions import Categorical, kl\n",
    "# from d2l.torch import Animator\n",
    "\n",
    "from net import Net\n",
    "from aco import ACO\n",
    "from utils import gen_pyg_data, load_test_dataset\n",
    "from greedy import test_greedy, GreedyTSP\n",
    "from tqdm import tqdm\n",
    "\n",
    "torch.manual_seed(12345)\n",
    "\n",
    "EPS = 1e-10\n",
    "device = 'cuda' if torch.cuda.is_available() else 'cpu'\n",
    "print(f'Using device: {device}')"
   ]
  },
  {
   "cell_type": "code",
   "execution_count": 2,
   "metadata": {},
   "outputs": [
    {
     "name": "stdout",
     "output_type": "stream",
     "text": [
      "['pr439.tsp', 'rd100.tsp', 'rl5934.tsp', 'pcb442.tsp', 'u2319.tsp', 'gil262.tsp', 'pcb3038.tsp', 'lin105.tsp', 'fl417.tsp', 'tsp225.tsp', 'fl1400.tsp', 'nrw1379.tsp', 'd2103.tsp', 'kroA150.tsp', 'pcb1173.tsp', 'd198.tsp', 'fl1577.tsp', 'ch130.tsp', 'kroB100.tsp', 'u1060.tsp', 'berlin52.tsp', 'eil51.tsp', 'rl1304.tsp', 'u2152.tsp', 'u724.tsp', 'kroD100.tsp', 'pr299.tsp', 'rd400.tsp', 'vm1084.tsp', 'rat575.tsp', 'd1655.tsp', 'ch150.tsp', 'd15112.tsp', 'pr107.tsp', 'kroB200.tsp', 'brd14051.tsp', 'a280.tsp', 'd1291.tsp', 'pr264.tsp', 'pr76.tsp', 'd493.tsp', 'pr136.tsp', 'rat195.tsp', 'rl11849.tsp', 'kroA100.tsp', 'kroB150.tsp', 'bier127.tsp', 'kroC100.tsp', 'usa13509.tsp', 'eil76.tsp', 'pr124.tsp', 'rl1323.tsp', 'p654.tsp', 'rl1889.tsp', 'd657.tsp', 'eil101.tsp', 'fnl4461.tsp', 'pr2392.tsp', 'rat783.tsp', 'ts225.tsp', 'u1432.tsp', 'u1817.tsp', 'lin318.tsp', 'd18512.tsp', 'rl5915.tsp', 'st70.tsp', 'rat99.tsp', 'fl3795.tsp', 'u159.tsp', 'kroA200.tsp', 'u574.tsp', 'pr1002.tsp', 'pr152.tsp', 'pr226.tsp', 'vm1748.tsp', 'pr144.tsp', 'kroE100.tsp']\n"
     ]
    }
   ],
   "source": [
    "import os\n",
    "\n",
    "TSPLIB_DIR = \"../data/tsp/TSPLIB\"\n",
    "tsp_files = [f for f in os.listdir(TSPLIB_DIR) if f.endswith(\".tsp\")]\n",
    "print(tsp_files)"
   ]
  },
  {
   "cell_type": "code",
   "execution_count": 2,
   "metadata": {},
   "outputs": [],
   "source": [
    "@torch.no_grad()\n",
    "def infer_instance(model, pyg_data, distances, n_ants, t_aco_diff, k_sparse=None):\n",
    "    if model:\n",
    "        model.eval()\n",
    "        heu_vec = model(pyg_data)\n",
    "        heu_mat = model.reshape(pyg_data, heu_vec) + EPS\n",
    "    \n",
    "        aco = ACO(\n",
    "        n_ants=n_ants,\n",
    "        heuristic=heu_mat,\n",
    "        distances=distances,\n",
    "        device=device\n",
    "        )\n",
    "    \n",
    "    else:\n",
    "        aco = ACO(\n",
    "        n_ants=n_ants,\n",
    "        distances=distances,\n",
    "        device=device\n",
    "        )\n",
    "        if k_sparse:\n",
    "            aco.sparsify(k_sparse)\n",
    "        \n",
    "    results = torch.zeros(size=(len(t_aco_diff),), device=device)\n",
    "    for i, t in enumerate(t_aco_diff):\n",
    "        best_cost = aco.run(t)\n",
    "        results[i] = best_cost\n",
    "    return results\n",
    "\n",
    "@torch.no_grad()\n",
    "def test(dataset, model, n_ants, t_aco, k_sparse=None, verbose=False):\n",
    "    _t_aco = [0] + t_aco\n",
    "    t_aco_diff = [_t_aco[i+1]-_t_aco[i] for i in range(len(_t_aco)-1)]\n",
    "    sum_results = torch.zeros(size=(len(t_aco_diff),), device=device)\n",
    "    start = time.time()\n",
    "    if verbose:\n",
    "        for pyg_data, distances in tqdm(dataset, desc=\"Testing Deep ACO Algorithm\"):\n",
    "            results = infer_instance(model, pyg_data, distances, n_ants, t_aco_diff, k_sparse)\n",
    "            sum_results += results\n",
    "    else:\n",
    "        for pyg_data, distances in dataset:\n",
    "            results = infer_instance(model, pyg_data, distances, n_ants, t_aco_diff, k_sparse)\n",
    "            sum_results += results\n",
    "    end = time.time()\n",
    "    \n",
    "    return sum_results / len(dataset), end-start\n"
   ]
  },
  {
   "cell_type": "code",
   "execution_count": null,
   "metadata": {},
   "outputs": [],
   "source": [
    "torch.set_printoptions(precision=3, sci_mode=False)\n",
    "# Configuration\n",
    "n_ants = 20\n",
    "n_node = 20\n",
    "k_sparse = 10\n",
    "t_aco = [1, 10, 20, 30, 40, 50, 100]\n",
    "test_list = load_test_dataset(n_node, k_sparse, device)\n",
    "\n",
    "# # Testing Deep ACO Model\n",
    "net_tsp = Net().to(device)\n",
    "net_tsp.load_state_dict(torch.load(f'../pretrained/tsp/tsp{n_node}.pt', map_location=device))\n",
    "avg_aco_best, duration = test(test_list, net_tsp, n_ants, t_aco, k_sparse)\n",
    "print('Deep ACO Model:')\n",
    "print('Total duration: ', duration)\n",
    "for i, t in enumerate(t_aco):\n",
    "    print(f\"T={t}, average cost is {avg_aco_best[i]}.\")"
   ]
  },
  {
   "cell_type": "code",
   "execution_count": 80,
   "metadata": {},
   "outputs": [
    {
     "name": "stdout",
     "output_type": "stream",
     "text": [
      "GreedyTSP is using: cpu\n"
     ]
    },
    {
     "name": "stderr",
     "output_type": "stream",
     "text": [
      "Testing Greedy Algorithm: 100%|██████████| 1280/1280 [00:00<00:00, 6440.67it/s]"
     ]
    },
    {
     "name": "stdout",
     "output_type": "stream",
     "text": [
      "--------Greedy Algorithm:--------\n",
      "Total duration:  0.20189809799194336\n",
      "Average cost is 4.539401644987083.\n"
     ]
    },
    {
     "name": "stderr",
     "output_type": "stream",
     "text": [
      "\n"
     ]
    }
   ],
   "source": [
    "# Testing Greedy Algorithm\n",
    "greedy_tsp = GreedyTSP(device=device)\n",
    "avg_greedy_cost, greedy_duration = test_greedy(test_list, greedy_tsp, show_progress=True)\n",
    "print('--------Greedy Algorithm:--------')\n",
    "print('Total duration: ', greedy_duration)\n",
    "print(f\"Average cost is {avg_greedy_cost}.\")"
   ]
  },
  {
   "cell_type": "markdown",
   "metadata": {},
   "source": [
    "# Across Scale"
   ]
  },
  {
   "cell_type": "code",
   "execution_count": 5,
   "metadata": {},
   "outputs": [
    {
     "name": "stderr",
     "output_type": "stream",
     "text": [
      "/Users/erostrate9/Desktop/CSI5137B test/project/code/DeepACO/tsp/utils.py:58: FutureWarning: You are using `torch.load` with `weights_only=False` (the current default value), which uses the default pickle module implicitly. It is possible to construct malicious pickle data which will execute arbitrary code during unpickling (See https://github.com/pytorch/pytorch/blob/main/SECURITY.md#untrusted-models for more details). In a future release, the default value for `weights_only` will be flipped to `True`. This limits the functions that could be executed during unpickling. Arbitrary objects will no longer be allowed to be loaded via this mode unless they are explicitly allowlisted by the user via `torch.serialization.add_safe_globals`. We recommend you start setting `weights_only=True` for any use case where you don't have full control of the loaded file. Please open an issue on GitHub for any issues related to this experimental feature.\n",
      "  val_tensor = torch.load(f'../data/tsp/testDataset-{n_node}.pt')\n",
      "/var/folders/c_/9pzrss116732p7dxch3kn_bc0000gn/T/ipykernel_19084/968638464.py:12: FutureWarning: You are using `torch.load` with `weights_only=False` (the current default value), which uses the default pickle module implicitly. It is possible to construct malicious pickle data which will execute arbitrary code during unpickling (See https://github.com/pytorch/pytorch/blob/main/SECURITY.md#untrusted-models for more details). In a future release, the default value for `weights_only` will be flipped to `True`. This limits the functions that could be executed during unpickling. Arbitrary objects will no longer be allowed to be loaded via this mode unless they are explicitly allowlisted by the user via `torch.serialization.add_safe_globals`. We recommend you start setting `weights_only=True` for any use case where you don't have full control of the loaded file. Please open an issue on GitHub for any issues related to this experimental feature.\n",
      "  net_tsp.load_state_dict(torch.load(f'../pretrained/tsp/tsp{pretrain_n_node}.pt', map_location=device))\n",
      "Testing Deep ACO Algorithm: 100%|██████████| 1280/1280 [08:07<00:00,  2.63it/s]"
     ]
    },
    {
     "name": "stdout",
     "output_type": "stream",
     "text": [
      "Deep ACO Model:\n",
      "Total duration:  487.3229932785034\n",
      "T=1, average cost is 10.886425971984863.\n",
      "T=20, average cost is 9.681572914123535.\n",
      "T=50, average cost is 9.40514087677002.\n"
     ]
    },
    {
     "name": "stderr",
     "output_type": "stream",
     "text": [
      "\n"
     ]
    }
   ],
   "source": [
    "torch.set_printoptions(precision=3, sci_mode=False)\n",
    "# Configuration\n",
    "pretrain_n_node = 20\n",
    "n_ants = 20\n",
    "test_n_node = 100\n",
    "k_sparse = test_n_node-1\n",
    "t_aco = [1, 20, 50,]\n",
    "test_list = load_test_dataset(test_n_node, k_sparse, device)\n",
    "\n",
    "# # Testing Deep ACO Model\n",
    "net_tsp = Net().to(device)\n",
    "net_tsp.load_state_dict(torch.load(f'../pretrained/tsp/tsp{pretrain_n_node}.pt', map_location=device))\n",
    "avg_aco_best, duration = test(test_list, net_tsp, n_ants, t_aco, k_sparse)\n",
    "print('Deep ACO Model:')\n",
    "print('Total duration: ', duration)\n",
    "for i, t in enumerate(t_aco):\n",
    "    print(f\"T={t}, average cost is {avg_aco_best[i]}.\")"
   ]
  },
  {
   "cell_type": "code",
   "execution_count": 6,
   "metadata": {},
   "outputs": [
    {
     "name": "stdout",
     "output_type": "stream",
     "text": [
      "GreedyTSP is using: cpu\n"
     ]
    },
    {
     "name": "stderr",
     "output_type": "stream",
     "text": [
      "Testing Greedy Algorithm: 100%|██████████| 1280/1280 [00:00<00:00, 1348.60it/s]"
     ]
    },
    {
     "name": "stdout",
     "output_type": "stream",
     "text": [
      "--------Greedy Algorithm:--------\n",
      "Total duration:  0.9518709182739258\n",
      "Average cost is 9.67953964085406.\n"
     ]
    },
    {
     "name": "stderr",
     "output_type": "stream",
     "text": [
      "\n"
     ]
    }
   ],
   "source": [
    "# Testing Greedy Algorithm\n",
    "greedy_tsp = GreedyTSP(device=device)\n",
    "avg_greedy_cost, greedy_duration = test_greedy(test_list, greedy_tsp, show_progress=True)\n",
    "print('--------Greedy Algorithm:--------')\n",
    "print('Total duration: ', greedy_duration)\n",
    "print(f\"Average cost is {avg_greedy_cost}.\")"
   ]
  },
  {
   "cell_type": "markdown",
   "metadata": {},
   "source": [
    "# Test TSPLIB"
   ]
  },
  {
   "cell_type": "code",
   "execution_count": 3,
   "metadata": {},
   "outputs": [
    {
     "name": "stderr",
     "output_type": "stream",
     "text": [
      "/var/folders/c_/9pzrss116732p7dxch3kn_bc0000gn/T/ipykernel_41695/2697478731.py:26: FutureWarning: You are using `torch.load` with `weights_only=False` (the current default value), which uses the default pickle module implicitly. It is possible to construct malicious pickle data which will execute arbitrary code during unpickling (See https://github.com/pytorch/pytorch/blob/main/SECURITY.md#untrusted-models for more details). In a future release, the default value for `weights_only` will be flipped to `True`. This limits the functions that could be executed during unpickling. Arbitrary objects will no longer be allowed to be loaded via this mode unless they are explicitly allowlisted by the user via `torch.serialization.add_safe_globals`. We recommend you start setting `weights_only=True` for any use case where you don't have full control of the loaded file. Please open an issue on GitHub for any issues related to this experimental feature.\n",
      "  net_tsp.load_state_dict(torch.load(f'../pretrained/tsp/tsp{pretrain_n_node}.pt', map_location=device))\n"
     ]
    },
    {
     "name": "stdout",
     "output_type": "stream",
     "text": [
      "ACO Model:\n",
      "Total duration:  2.243971824645996\n",
      "T=1, average cost is 15.53651237487793.\n",
      "T=2, average cost is 14.156938552856445.\n",
      "T=10, average cost is 11.681442260742188.\n"
     ]
    },
    {
     "name": "stderr",
     "output_type": "stream",
     "text": [
      "Testing Deep ACO Algorithm: 100%|██████████| 4/4 [00:02<00:00,  1.81it/s]\n"
     ]
    },
    {
     "name": "stdout",
     "output_type": "stream",
     "text": [
      "Deep ACO Model:\n",
      "Total duration:  2.218463897705078\n",
      "T=1, average cost is 9.516571044921875.\n",
      "T=2, average cost is 9.178625106811523.\n",
      "T=10, average cost is 8.79952621459961.\n",
      "GreedyTSP is using: cpu\n"
     ]
    },
    {
     "name": "stderr",
     "output_type": "stream",
     "text": [
      "Testing Greedy Algorithm: 100%|██████████| 4/4 [00:00<00:00, 661.82it/s]"
     ]
    },
    {
     "name": "stdout",
     "output_type": "stream",
     "text": [
      "--------Greedy Algorithm:--------\n",
      "Total duration:  0.007444858551025391\n",
      "Average cost is 10.27803460357245.\n"
     ]
    },
    {
     "name": "stderr",
     "output_type": "stream",
     "text": [
      "\n"
     ]
    }
   ],
   "source": [
    "from utils import gen_pyg_data_fully_connected, load_TSPLIB_test_instance\n",
    "\n",
    "TSPLIB_DIR = '../data/tsp/TSPLIB'\n",
    "\n",
    "file_names=['bier127.tsp', 'ch130.tsp', 'ch150.tsp', 'eil101.tsp']\n",
    "k_sparse = 20\n",
    "tsplib_test_list = load_TSPLIB_test_instance(dir=TSPLIB_DIR, file_names=file_names, device=device, k_sparse = k_sparse, normalized=True)\n",
    "\n",
    "torch.set_printoptions(precision=3, sci_mode=False)\n",
    "# Configuration\n",
    "pretrain_n_node = 100\n",
    "n_ants = 200\n",
    "t_aco = [1, 2, 10]\n",
    "\n",
    "k_sparse = 20\n",
    "\n",
    "# Testing ACO Model\n",
    "avg_aco_best, duration = test(tsplib_test_list, None, n_ants, t_aco, k_sparse)\n",
    "print('ACO Model:')\n",
    "print('Total duration: ', duration)\n",
    "for i, t in enumerate(t_aco):\n",
    "    print(f\"T={t}, average cost is {avg_aco_best[i]}.\")\n",
    "\n",
    "# Testing Deep ACO Model\n",
    "net_tsp = Net().to(device)\n",
    "net_tsp.load_state_dict(torch.load(f'../pretrained/tsp/tsp{pretrain_n_node}.pt', map_location=device))\n",
    "avg_aco_best, duration = test(tsplib_test_list, net_tsp, n_ants, t_aco, k_sparse, verbose=True)\n",
    "print('Deep ACO Model:')\n",
    "print('Total duration: ', duration)\n",
    "for i, t in enumerate(t_aco):\n",
    "    print(f\"T={t}, average cost is {avg_aco_best[i]}.\")\n",
    "\n",
    "# Greedy\n",
    "greedy_tsp = GreedyTSP(device=device)\n",
    "avg_greedy_cost, greedy_duration = test_greedy(tsplib_test_list, greedy_tsp, show_progress=True)\n",
    "print('--------Greedy Algorithm:--------')\n",
    "print('Total duration: ', greedy_duration)\n",
    "print(f\"Average cost is {avg_greedy_cost}.\")"
   ]
  },
  {
   "cell_type": "code",
   "execution_count": 4,
   "metadata": {},
   "outputs": [
    {
     "name": "stderr",
     "output_type": "stream",
     "text": [
      "/var/folders/c_/9pzrss116732p7dxch3kn_bc0000gn/T/ipykernel_41695/2318233027.py:26: FutureWarning: You are using `torch.load` with `weights_only=False` (the current default value), which uses the default pickle module implicitly. It is possible to construct malicious pickle data which will execute arbitrary code during unpickling (See https://github.com/pytorch/pytorch/blob/main/SECURITY.md#untrusted-models for more details). In a future release, the default value for `weights_only` will be flipped to `True`. This limits the functions that could be executed during unpickling. Arbitrary objects will no longer be allowed to be loaded via this mode unless they are explicitly allowlisted by the user via `torch.serialization.add_safe_globals`. We recommend you start setting `weights_only=True` for any use case where you don't have full control of the loaded file. Please open an issue on GitHub for any issues related to this experimental feature.\n",
      "  net_tsp.load_state_dict(torch.load(f'../pretrained/tsp/tsp{pretrain_n_node}.pt', map_location=device))\n"
     ]
    },
    {
     "name": "stdout",
     "output_type": "stream",
     "text": [
      "ACO Model:\n",
      "Total duration:  2.27939772605896\n",
      "T=1, average cost is 55859.64453125.\n",
      "T=2, average cost is 55737.6796875.\n",
      "T=10, average cost is 54028.4453125.\n"
     ]
    },
    {
     "name": "stderr",
     "output_type": "stream",
     "text": [
      "Testing Deep ACO Algorithm: 100%|██████████| 4/4 [00:02<00:00,  1.81it/s]\n"
     ]
    },
    {
     "name": "stdout",
     "output_type": "stream",
     "text": [
      "Deep ACO Model:\n",
      "Total duration:  2.2157368659973145\n",
      "T=1, average cost is 169340.515625.\n",
      "T=2, average cost is 161547.640625.\n",
      "T=10, average cost is 160972.9375.\n",
      "GreedyTSP is using: cpu\n"
     ]
    },
    {
     "name": "stderr",
     "output_type": "stream",
     "text": [
      "Testing Greedy Algorithm: 100%|██████████| 4/4 [00:00<00:00, 670.45it/s]"
     ]
    },
    {
     "name": "stdout",
     "output_type": "stream",
     "text": [
      "--------Greedy Algorithm:--------\n",
      "Total duration:  0.007425785064697266\n",
      "Average cost is 38086.73029972613.\n"
     ]
    },
    {
     "name": "stderr",
     "output_type": "stream",
     "text": [
      "\n"
     ]
    }
   ],
   "source": [
    "from utils import gen_pyg_data_fully_connected, load_TSPLIB_test_instance\n",
    "\n",
    "TSPLIB_DIR = '../data/tsp/TSPLIB'\n",
    "\n",
    "file_names=['bier127.tsp', 'ch130.tsp', 'ch150.tsp', 'eil101.tsp']\n",
    "k_sparse = 20\n",
    "tsplib_test_list = load_TSPLIB_test_instance(dir=TSPLIB_DIR, file_names=file_names, device=device, k_sparse = k_sparse, normalized=False)\n",
    "\n",
    "torch.set_printoptions(precision=3, sci_mode=False)\n",
    "# Configuration\n",
    "pretrain_n_node = 100\n",
    "n_ants = 200\n",
    "t_aco = [1, 2, 10]\n",
    "\n",
    "k_sparse = 20\n",
    "\n",
    "# Testing ACO Model\n",
    "avg_aco_best, duration = test(tsplib_test_list, None, n_ants, t_aco, k_sparse)\n",
    "print('ACO Model:')\n",
    "print('Total duration: ', duration)\n",
    "for i, t in enumerate(t_aco):\n",
    "    print(f\"T={t}, average cost is {avg_aco_best[i]}.\")\n",
    "\n",
    "# Testing Deep ACO Model\n",
    "net_tsp = Net().to(device)\n",
    "net_tsp.load_state_dict(torch.load(f'../pretrained/tsp/tsp{pretrain_n_node}.pt', map_location=device))\n",
    "avg_aco_best, duration = test(tsplib_test_list, net_tsp, n_ants, t_aco, k_sparse, verbose=True)\n",
    "print('Deep ACO Model:')\n",
    "print('Total duration: ', duration)\n",
    "for i, t in enumerate(t_aco):\n",
    "    print(f\"T={t}, average cost is {avg_aco_best[i]}.\")\n",
    "\n",
    "# Greedy\n",
    "greedy_tsp = GreedyTSP(device=device)\n",
    "avg_greedy_cost, greedy_duration = test_greedy(tsplib_test_list, greedy_tsp, show_progress=True)\n",
    "print('--------Greedy Algorithm:--------')\n",
    "print('Total duration: ', greedy_duration)\n",
    "print(f\"Average cost is {avg_greedy_cost}.\")"
   ]
  },
  {
   "cell_type": "markdown",
   "metadata": {},
   "source": [
    "## large n_node rl11849.tsp"
   ]
  },
  {
   "cell_type": "code",
   "execution_count": 5,
   "metadata": {},
   "outputs": [
    {
     "name": "stderr",
     "output_type": "stream",
     "text": [
      "/var/folders/c_/9pzrss116732p7dxch3kn_bc0000gn/T/ipykernel_41695/2878881267.py:25: FutureWarning: You are using `torch.load` with `weights_only=False` (the current default value), which uses the default pickle module implicitly. It is possible to construct malicious pickle data which will execute arbitrary code during unpickling (See https://github.com/pytorch/pytorch/blob/main/SECURITY.md#untrusted-models for more details). In a future release, the default value for `weights_only` will be flipped to `True`. This limits the functions that could be executed during unpickling. Arbitrary objects will no longer be allowed to be loaded via this mode unless they are explicitly allowlisted by the user via `torch.serialization.add_safe_globals`. We recommend you start setting `weights_only=True` for any use case where you don't have full control of the loaded file. Please open an issue on GitHub for any issues related to this experimental feature.\n",
      "  net_tsp.load_state_dict(torch.load(f'../pretrained/tsp/tsp{pretrain_n_node}.pt', map_location=device))\n"
     ]
    },
    {
     "name": "stdout",
     "output_type": "stream",
     "text": [
      "ACO Model:\n",
      "Total duration:  103.54408288002014\n",
      "T=1, average cost is 229.74734497070312.\n"
     ]
    },
    {
     "name": "stderr",
     "output_type": "stream",
     "text": [
      "Testing Deep ACO Algorithm: 100%|██████████| 1/1 [01:45<00:00, 105.78s/it]\n"
     ]
    },
    {
     "name": "stdout",
     "output_type": "stream",
     "text": [
      "Deep ACO Model:\n",
      "Total duration:  105.781653881073\n",
      "T=1, average cost is 159.37045288085938.\n",
      "GreedyTSP is using: cpu\n"
     ]
    },
    {
     "name": "stderr",
     "output_type": "stream",
     "text": [
      "Testing Greedy Algorithm: 100%|██████████| 1/1 [00:00<00:00,  2.44it/s]"
     ]
    },
    {
     "name": "stdout",
     "output_type": "stream",
     "text": [
      "--------Greedy Algorithm:--------\n",
      "Total duration:  0.41199207305908203\n",
      "Average cost is 58.71736486419104.\n"
     ]
    },
    {
     "name": "stderr",
     "output_type": "stream",
     "text": [
      "\n"
     ]
    }
   ],
   "source": [
    "from utils import gen_pyg_data_fully_connected, load_TSPLIB_test_instance\n",
    "\n",
    "TSPLIB_DIR = '../data/tsp/TSPLIB'\n",
    "\n",
    "file_names=['rl11849.tsp']\n",
    "k_sparse = 50\n",
    "tsplib_test_list = load_TSPLIB_test_instance(dir=TSPLIB_DIR, file_names=file_names, device=device, k_sparse = k_sparse, normalized=True)\n",
    "\n",
    "torch.set_printoptions(precision=3, sci_mode=False)\n",
    "# Configuration\n",
    "pretrain_n_node = 500\n",
    "n_ants = 50\n",
    "# t_aco = [1, 2, 10]\n",
    "t_aco = [1]\n",
    "\n",
    "# Testing ACO Model\n",
    "avg_aco_best, duration = test(tsplib_test_list, None, n_ants, t_aco, k_sparse)\n",
    "print('ACO Model:')\n",
    "print('Total duration: ', duration)\n",
    "for i, t in enumerate(t_aco):\n",
    "    print(f\"T={t}, average cost is {avg_aco_best[i]}.\")\n",
    "\n",
    "# Testing Deep ACO Model\n",
    "net_tsp = Net().to(device)\n",
    "net_tsp.load_state_dict(torch.load(f'../pretrained/tsp/tsp{pretrain_n_node}.pt', map_location=device))\n",
    "avg_aco_best, duration = test(tsplib_test_list, net_tsp, n_ants, t_aco, k_sparse, verbose=True)\n",
    "print('Deep ACO Model:')\n",
    "print('Total duration: ', duration)\n",
    "for i, t in enumerate(t_aco):\n",
    "    print(f\"T={t}, average cost is {avg_aco_best[i]}.\")\n",
    "\n",
    "# Greedy\n",
    "greedy_tsp = GreedyTSP(device=device)\n",
    "avg_greedy_cost, greedy_duration = test_greedy(tsplib_test_list, greedy_tsp, show_progress=True)\n",
    "print('--------Greedy Algorithm:--------')\n",
    "print('Total duration: ', greedy_duration)\n",
    "print(f\"Average cost is {avg_greedy_cost}.\")"
   ]
  }
 ],
 "metadata": {
  "kernelspec": {
   "display_name": "gfacs",
   "language": "python",
   "name": "python3"
  },
  "language_info": {
   "codemirror_mode": {
    "name": "ipython",
    "version": 3
   },
   "file_extension": ".py",
   "mimetype": "text/x-python",
   "name": "python",
   "nbconvert_exporter": "python",
   "pygments_lexer": "ipython3",
   "version": "3.11.10"
  }
 },
 "nbformat": 4,
 "nbformat_minor": 2
}

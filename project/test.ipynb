{
 "cells": [
  {
   "cell_type": "code",
   "execution_count": 1,
   "metadata": {},
   "outputs": [
    {
     "name": "stdout",
     "output_type": "stream",
     "text": [
      "['pr439.tsp', 'rd100.tsp', 'rl5934.tsp', 'pcb442.tsp', 'u2319.tsp', 'gil262.tsp', 'pcb3038.tsp', 'lin105.tsp', 'fl417.tsp', 'tsp225.tsp', 'fl1400.tsp', 'nrw1379.tsp', 'd2103.tsp', 'kroA150.tsp', 'pcb1173.tsp', 'd198.tsp', 'fl1577.tsp', 'ch130.tsp', 'kroB100.tsp', 'u1060.tsp', 'berlin52.tsp', 'eil51.tsp', 'rl1304.tsp', 'u2152.tsp', 'u724.tsp', 'kroD100.tsp', 'pr299.tsp', 'rd400.tsp', 'vm1084.tsp', 'rat575.tsp', 'd1655.tsp', 'ch150.tsp', 'd15112.tsp', 'pr107.tsp', 'kroB200.tsp', 'brd14051.tsp', 'a280.tsp', 'd1291.tsp', 'pr264.tsp', 'pr76.tsp', 'd493.tsp', 'pr136.tsp', 'rat195.tsp', 'rl11849.tsp', 'kroA100.tsp', 'kroB150.tsp', 'bier127.tsp', 'kroC100.tsp', 'usa13509.tsp', 'eil76.tsp', 'pr124.tsp', 'rl1323.tsp', 'p654.tsp', 'rl1889.tsp', 'd657.tsp', 'eil101.tsp', 'fnl4461.tsp', 'pr2392.tsp', 'rat783.tsp', 'ts225.tsp', 'u1432.tsp', 'u1817.tsp', 'lin318.tsp', 'd18512.tsp', 'rl5915.tsp', 'st70.tsp', 'rat99.tsp', 'fl3795.tsp', 'u159.tsp', 'kroA200.tsp', 'u574.tsp', 'pr1002.tsp', 'pr152.tsp', 'pr226.tsp', 'vm1748.tsp', 'pr144.tsp', 'kroE100.tsp']\n"
     ]
    }
   ],
   "source": [
    "import os\n",
    "import sys\n",
    "# os.chdir(\"../\")\n",
    "sys.path.append('../tsp_nls')\n",
    "sys.path.append('../tsp')\n",
    "sys.path.append(\"..\")  # This points to `DeepACO`\n",
    "\n",
    "TSPLIB_DIR = \"../data/tsp/TSPLIB\"\n",
    "tsp_files = [f for f in os.listdir(TSPLIB_DIR) if f.endswith(\".tsp\")]\n",
    "print(tsp_files)"
   ]
  },
  {
   "cell_type": "code",
   "execution_count": 2,
   "metadata": {},
   "outputs": [
    {
     "name": "stdout",
     "output_type": "stream",
     "text": [
      "Current Working Directory: /Users/erostrate9/Desktop/CSI5137B test/project/code/DeepACO/project\n",
      "Using device: cpu\n"
     ]
    }
   ],
   "source": [
    "print(\"Current Working Directory:\", os.getcwd())\n",
    "import torch\n",
    "from torch.distributions import Categorical, kl\n",
    "# from d2l.torch import Animator\n",
    "\n",
    "from tsp_nls.greedy import test_greedy, GreedyTSP\n",
    "\n",
    "torch.manual_seed(12345)\n",
    "\n",
    "EPS = 1e-10\n",
    "device = 'cuda' if torch.cuda.is_available() else 'cpu'\n",
    "print(f'Using device: {device}')"
   ]
  },
  {
   "cell_type": "markdown",
   "metadata": {},
   "source": [
    "# Test TSPLIB"
   ]
  },
  {
   "cell_type": "code",
   "execution_count": 3,
   "metadata": {},
   "outputs": [
    {
     "name": "stderr",
     "output_type": "stream",
     "text": [
      "/var/folders/c_/9pzrss116732p7dxch3kn_bc0000gn/T/ipykernel_35453/3035805494.py:28: FutureWarning: You are using `torch.load` with `weights_only=False` (the current default value), which uses the default pickle module implicitly. It is possible to construct malicious pickle data which will execute arbitrary code during unpickling (See https://github.com/pytorch/pytorch/blob/main/SECURITY.md#untrusted-models for more details). In a future release, the default value for `weights_only` will be flipped to `True`. This limits the functions that could be executed during unpickling. Arbitrary objects will no longer be allowed to be loaded via this mode unless they are explicitly allowlisted by the user via `torch.serialization.add_safe_globals`. We recommend you start setting `weights_only=True` for any use case where you don't have full control of the loaded file. Please open an issue on GitHub for any issues related to this experimental feature.\n",
      "  net_ls.load_state_dict(torch.load(model_file, map_location=device))\n"
     ]
    },
    {
     "name": "stdout",
     "output_type": "stream",
     "text": [
      "-------DeepACO (LS: 2opt)-------\n",
      "checkpoint: ../pretrained/tsp_nls/tsp100.pt\n",
      "number of instances: 4\n",
      "device: cpu\n"
     ]
    },
    {
     "name": "stderr",
     "output_type": "stream",
     "text": [
      "100%|██████████| 4/4 [00:00<00:00, 17.79it/s]\n",
      "/var/folders/c_/9pzrss116732p7dxch3kn_bc0000gn/T/ipykernel_35453/3035805494.py:41: FutureWarning: You are using `torch.load` with `weights_only=False` (the current default value), which uses the default pickle module implicitly. It is possible to construct malicious pickle data which will execute arbitrary code during unpickling (See https://github.com/pytorch/pytorch/blob/main/SECURITY.md#untrusted-models for more details). In a future release, the default value for `weights_only` will be flipped to `True`. This limits the functions that could be executed during unpickling. Arbitrary objects will no longer be allowed to be loaded via this mode unless they are explicitly allowlisted by the user via `torch.serialization.add_safe_globals`. We recommend you start setting `weights_only=True` for any use case where you don't have full control of the loaded file. Please open an issue on GitHub for any issues related to this experimental feature.\n",
      "  net_nls.load_state_dict(torch.load(model_file, map_location=device))\n"
     ]
    },
    {
     "name": "stdout",
     "output_type": "stream",
     "text": [
      "total duration:  0.234710693359375\n",
      "T=1, average cost is 8.344111442565918.\n",
      "T=2, average cost is 8.322023391723633.\n",
      "T=10, average cost is 8.247499465942383.\n",
      "-------DeepACO (NLS)-------\n",
      "checkpoint: ../pretrained/tsp_nls/tsp100.pt\n",
      "number of instances: 4\n",
      "device: cpu\n"
     ]
    },
    {
     "name": "stderr",
     "output_type": "stream",
     "text": [
      "100%|██████████| 4/4 [00:01<00:00,  3.07it/s]\n"
     ]
    },
    {
     "name": "stdout",
     "output_type": "stream",
     "text": [
      "total duration:  1.304128885269165\n",
      "T=1, average cost is 8.288806915283203.\n",
      "T=2, average cost is 8.26016902923584.\n",
      "T=10, average cost is 8.232563972473145.\n",
      "-------ACO Model-------\n",
      "Total duration:  1.5959980487823486\n",
      "T=1, average cost is 8.442061424255371.\n",
      "T=2, average cost is 8.363621711730957.\n",
      "T=10, average cost is 8.283775329589844.\n",
      "GreedyTSP is using: cpu\n",
      "--------Greedy Algorithm:--------\n",
      "Total duration:  0.003940105438232422\n",
      "Average cost is 10.27803460357245.\n"
     ]
    }
   ],
   "source": [
    "from tsp_nls.utils import load_TSPLIB_test_instance\n",
    "from tsp_nls.test import test\n",
    "import tsp_nls.net as net\n",
    "import tsp.test_utils as test_aco\n",
    "\n",
    "# Configuration\n",
    "pretrain_n_node = 100\n",
    "n_ants = 20\n",
    "t_aco = [1, 2, 10]\n",
    "k_sparse = 20\n",
    "torch.set_printoptions(precision=3, sci_mode=False)\n",
    "\n",
    "model_file = f'../pretrained/tsp_nls/tsp{pretrain_n_node}.pt'\n",
    "\n",
    "TSPLIB_DIR = '../data/tsp/TSPLIB'\n",
    "file_names=['bier127.tsp', 'ch130.tsp', 'ch150.tsp', 'eil101.tsp']\n",
    "\n",
    "\n",
    "tsplib_test_list = load_TSPLIB_test_instance(dir=TSPLIB_DIR, file_names=file_names, device=device, start_node=0, k_sparse = k_sparse, normalized=True)\n",
    "\n",
    "# Testing Deep ACO Model (LS: 2opt)\n",
    "print('-------DeepACO (LS: 2opt)-------')\n",
    "print(\"checkpoint:\", model_file)\n",
    "print(\"number of instances:\", len(tsplib_test_list))\n",
    "print(\"device:\", 'cpu' if device == 'cpu' else device+\"+cpu\" )\n",
    "\n",
    "net_ls = net.Net().to(device)\n",
    "net_ls.load_state_dict(torch.load(model_file, map_location=device))\n",
    "avg_aco_best, duration = test(tsplib_test_list, net_ls, n_ants, t_aco, k_sparse, local_search='2opt')\n",
    "print('total duration: ', duration)\n",
    "for i, t in enumerate(t_aco):\n",
    "    print(\"T={}, average cost is {}.\".format(t, avg_aco_best[i]))\n",
    "\n",
    "# Testing Deep ACO Model (NLS)\n",
    "print('-------DeepACO (NLS)-------')\n",
    "print(\"checkpoint:\", model_file)\n",
    "print(\"number of instances:\", len(tsplib_test_list))\n",
    "print(\"device:\", 'cpu' if device == 'cpu' else device+\"+cpu\" )\n",
    "\n",
    "net_nls = net.Net().to(device)\n",
    "net_nls.load_state_dict(torch.load(model_file, map_location=device))\n",
    "avg_aco_best, duration = test(tsplib_test_list, net_nls, n_ants, t_aco, k_sparse, local_search='nls')\n",
    "print('total duration: ', duration)\n",
    "for i, t in enumerate(t_aco):\n",
    "    print(\"T={}, average cost is {}.\".format(t, avg_aco_best[i]))\n",
    "\n",
    "# Testing ACO Model\n",
    "avg_aco_best, duration = test_aco.test(tsplib_test_list, None, n_ants, t_aco, k_sparse)\n",
    "print('-------ACO Model-------')\n",
    "print('Total duration: ', duration)\n",
    "for i, t in enumerate(t_aco):\n",
    "    print(f\"T={t}, average cost is {avg_aco_best[i]}.\")\n",
    "\n",
    "# Greedy\n",
    "greedy_tsp = GreedyTSP(device=device)\n",
    "avg_greedy_cost, greedy_duration = test_greedy(tsplib_test_list, greedy_tsp, show_progress=False)\n",
    "print('--------Greedy Algorithm:--------')\n",
    "print('Total duration: ', greedy_duration)\n",
    "print(f\"Average cost is {avg_greedy_cost}.\")"
   ]
  },
  {
   "cell_type": "code",
   "execution_count": 10,
   "metadata": {},
   "outputs": [
    {
     "name": "stdout",
     "output_type": "stream",
     "text": [
      "-------Genetic Algorithm-------\n",
      "Total duration:  109.69231414794922\n",
      "[tensor([109.964, 108.840]), tensor([192.176, 176.330]), tensor([191.041, 152.225]), tensor([137.177, 136.863])]\n",
      "T=500, average cost is 157.58946228027344.\n",
      "T=1000, average cost is 143.5645294189453.\n"
     ]
    }
   ],
   "source": [
    "import tsp.genetic as genetic\n",
    "    \n",
    "pop_size = 500\n",
    "crossover_rate = 0.85\n",
    "mutation_rate=0.15\n",
    "elitism_count=2\n",
    "tournament_size=5\n",
    "t_ga=[500, 1000]\n",
    "\n",
    "res, avg_ga_best, duration_ga = genetic.test_genetic(\n",
    "    tsplib_test_list, \n",
    "    pop_size=pop_size, \n",
    "    crossover_rate=crossover_rate, \n",
    "    mutation_rate=mutation_rate, \n",
    "    elitism_count=elitism_count, \n",
    "    tournament_size=tournament_size, \n",
    "    t_ga=t_ga, \n",
    "    device=device\n",
    ")\n",
    "\n",
    "print('-------Genetic Algorithm-------')\n",
    "print('Total duration: ', duration_ga)\n",
    "print(res)\n",
    "for i, t in enumerate(t_ga):\n",
    "    print(f\"T={t}, average cost is {avg_ga_best[i]}.\")"
   ]
  }
 ],
 "metadata": {
  "kernelspec": {
   "display_name": "gfacs",
   "language": "python",
   "name": "python3"
  },
  "language_info": {
   "codemirror_mode": {
    "name": "ipython",
    "version": 3
   },
   "file_extension": ".py",
   "mimetype": "text/x-python",
   "name": "python",
   "nbconvert_exporter": "python",
   "pygments_lexer": "ipython3",
   "version": "3.11.10"
  }
 },
 "nbformat": 4,
 "nbformat_minor": 2
}

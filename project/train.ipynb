{
 "cells": [
  {
   "cell_type": "markdown",
   "metadata": {},
   "source": [
    "# Colab settings"
   ]
  },
  {
   "cell_type": "code",
   "execution_count": null,
   "metadata": {},
   "outputs": [],
   "source": [
    "!cd /content/DeepACO/ && pip install -r requirements.txt"
   ]
  },
  {
   "cell_type": "code",
   "execution_count": null,
   "metadata": {},
   "outputs": [],
   "source": [
    "from google.colab import drive\n",
    "drive.mount('/content/drive')"
   ]
  },
  {
   "cell_type": "code",
   "execution_count": null,
   "metadata": {},
   "outputs": [],
   "source": [
    "!git clone https://github.com/Erostrate9/DeepACO\n",
    "!git config --global user.email ericsun42@outlook.com\n",
    "!git config --global user.name Erostrate9\n",
    "!mkdir -p /root/.ssh && cp -r \"/content/drive/My Drive/ssh/.\" /root/.ssh/\n",
    "!ssh -T git@github.com"
   ]
  },
  {
   "cell_type": "code",
   "execution_count": null,
   "metadata": {},
   "outputs": [],
   "source": [
    "import os\n",
    "os.chdir('/content/DeepACO/project')"
   ]
  },
  {
   "cell_type": "code",
   "execution_count": null,
   "metadata": {},
   "outputs": [],
   "source": [
    "%%bash\n",
    "cd /content/DeepACO\n",
    "git add .\n",
    "git commit -m \"Update tsp_nls pre-trained models\"\n",
    "git push"
   ]
  },
  {
   "cell_type": "markdown",
   "metadata": {},
   "source": [
    "# Training\n"
   ]
  },
  {
   "cell_type": "markdown",
   "metadata": {},
   "source": [
    "## DeepACO (without LS)"
   ]
  },
  {
   "cell_type": "markdown",
   "metadata": {},
   "source": [
    "Learn heuristic for TSP20: "
   ]
  },
  {
   "cell_type": "code",
   "execution_count": 22,
   "metadata": {},
   "outputs": [
    {
     "name": "stdout",
     "output_type": "stream",
     "text": [
      "The device to train NNs: cpu\n",
      "/Users/erostrate9/Desktop/CSI5137B test/project/code/DeepACO/tsp/utils.py:65: FutureWarning: You are using `torch.load` with `weights_only=False` (the current default value), which uses the default pickle module implicitly. It is possible to construct malicious pickle data which will execute arbitrary code during unpickling (See https://github.com/pytorch/pytorch/blob/main/SECURITY.md#untrusted-models for more details). In a future release, the default value for `weights_only` will be flipped to `True`. This limits the functions that could be executed during unpickling. Arbitrary objects will no longer be allowed to be loaded via this mode unless they are explicitly allowlisted by the user via `torch.serialization.add_safe_globals`. We recommend you start setting `weights_only=True` for any use case where you don't have full control of the loaded file. Please open an issue on GitHub for any issues related to this experimental feature.\n",
      "  val_tensor = torch.load(f'../data/tsp/valDataset-{n_node}.pt')\n",
      "epoch 0: [6.091161217689514, 5.14381121635437, 4.55048020362854]\n",
      "Training DeepACO (without local search)...:   0%|         | 0/5 [00:00<?, ?it/s]epoch 1: [5.868319592475891, 5.031237680912017, 4.497672016620636]\n",
      "Training DeepACO (without local search)...:  20%|▏| 1/5 [00:01<00:07,  1.97s/it]epoch 2: [5.761025590896606, 4.8918616843223575, 4.471458008289337]\n",
      "Training DeepACO (without local search)...:  40%|▍| 2/5 [00:03<00:05,  1.91s/it]epoch 3: [5.692867279052734, 4.798906490802765, 4.424783315658569]\n",
      "Training DeepACO (without local search)...:  60%|▌| 3/5 [00:05<00:03,  1.90s/it]epoch 4: [5.706237688064575, 4.839691960811615, 4.449042129516601]\n",
      "Training DeepACO (without local search)...:  80%|▊| 4/5 [00:07<00:01,  1.89s/it]epoch 5: [5.727613892555237, 4.861117389202118, 4.417121686935425]\n",
      "Training DeepACO (without local search)...: 100%|█| 5/5 [00:09<00:00,  1.90s/it]\n",
      "Final total training epochs: 5\n",
      "Best parameters was obtained from epoch 5\n",
      "\n",
      "total training duration: 5.252630233764648\n",
      "Final total training instances processed: 640\n"
     ]
    }
   ],
   "source": [
    "!cd ../tsp && python train.py 20 --ants 10 --epochs 5 --steps 128 --batch_size 1"
   ]
  },
  {
   "cell_type": "markdown",
   "metadata": {},
   "source": [
    "Learn heuristic for TSP100: "
   ]
  },
  {
   "cell_type": "code",
   "execution_count": 27,
   "metadata": {},
   "outputs": [
    {
     "name": "stdout",
     "output_type": "stream",
     "text": [
      "The device to train NNs: cpu\n",
      "/Users/erostrate9/Desktop/CSI5137B test/project/code/DeepACO/tsp/utils.py:65: FutureWarning: You are using `torch.load` with `weights_only=False` (the current default value), which uses the default pickle module implicitly. It is possible to construct malicious pickle data which will execute arbitrary code during unpickling (See https://github.com/pytorch/pytorch/blob/main/SECURITY.md#untrusted-models for more details). In a future release, the default value for `weights_only` will be flipped to `True`. This limits the functions that could be executed during unpickling. Arbitrary objects will no longer be allowed to be loaded via this mode unless they are explicitly allowlisted by the user via `torch.serialization.add_safe_globals`. We recommend you start setting `weights_only=True` for any use case where you don't have full control of the loaded file. Please open an issue on GitHub for any issues related to this experimental feature.\n",
      "  val_tensor = torch.load(f'../data/tsp/valDataset-{n_node}.pt')\n",
      "epoch 0: [17.51987865447998, 15.576042108535766, 14.835975704193116]\n",
      "Training DeepACO (without local search)...:   0%|         | 0/5 [00:00<?, ?it/s]epoch 1: [12.337867946624756, 11.008512840270996, 10.252290201187133]\n",
      "Training DeepACO (without local search)...:  20%|▏| 1/5 [00:09<00:38,  9.62s/it]epoch 2: [10.300147609710693, 9.399590063095093, 8.938127660751343]\n",
      "Training DeepACO (without local search)...:  40%|▍| 2/5 [00:19<00:28,  9.58s/it]epoch 3: [10.124732398986817, 9.16007022857666, 8.786394281387329]\n",
      "Training DeepACO (without local search)...:  60%|▌| 3/5 [00:28<00:19,  9.51s/it]epoch 4: [10.004349756240845, 9.09848928451538, 8.718536596298218]\n",
      "Training DeepACO (without local search)...:  80%|▊| 4/5 [00:38<00:09,  9.47s/it]epoch 5: [9.972892351150513, 9.088208847045898, 8.687179269790649]\n",
      "Training DeepACO (without local search)...: 100%|█| 5/5 [00:47<00:00,  9.46s/it]\n",
      "Final total training epochs: 5\n",
      "Best parameters was obtained from epoch 5\n",
      "\n",
      "total training duration: 18.66186285018921\n",
      "Final total training instances processed: 640\n"
     ]
    }
   ],
   "source": [
    "!cd ../tsp && python train.py 100 --ants 20 --epochs 5 --steps 128 --batch_size 1"
   ]
  },
  {
   "cell_type": "markdown",
   "metadata": {},
   "source": [
    "Learn heuristic for TSP500: "
   ]
  },
  {
   "cell_type": "code",
   "execution_count": null,
   "metadata": {},
   "outputs": [
    {
     "name": "stdout",
     "output_type": "stream",
     "text": [
      "The device to train NNs: cpu\n",
      "/Users/erostrate9/Desktop/CSI5137B test/project/code/DeepACO/tsp/utils.py:65: FutureWarning: You are using `torch.load` with `weights_only=False` (the current default value), which uses the default pickle module implicitly. It is possible to construct malicious pickle data which will execute arbitrary code during unpickling (See https://github.com/pytorch/pytorch/blob/main/SECURITY.md#untrusted-models for more details). In a future release, the default value for `weights_only` will be flipped to `True`. This limits the functions that could be executed during unpickling. Arbitrary objects will no longer be allowed to be loaded via this mode unless they are explicitly allowlisted by the user via `torch.serialization.add_safe_globals`. We recommend you start setting `weights_only=True` for any use case where you don't have full control of the loaded file. Please open an issue on GitHub for any issues related to this experimental feature.\n",
      "  val_tensor = torch.load(f'../data/tsp/valDataset-{n_node}.pt')\n"
     ]
    }
   ],
   "source": [
    "# TODO\n",
    "!cd ../tsp && python train_simple.py 500 --ants 50 --epochs 5 --steps 128"
   ]
  },
  {
   "cell_type": "code",
   "execution_count": 28,
   "metadata": {},
   "outputs": [
    {
     "name": "stdout",
     "output_type": "stream",
     "text": [
      "The device to train NNs: cpu\n",
      "/Users/erostrate9/Desktop/CSI5137B test/project/code/DeepACO/tsp/utils.py:65: FutureWarning: You are using `torch.load` with `weights_only=False` (the current default value), which uses the default pickle module implicitly. It is possible to construct malicious pickle data which will execute arbitrary code during unpickling (See https://github.com/pytorch/pytorch/blob/main/SECURITY.md#untrusted-models for more details). In a future release, the default value for `weights_only` will be flipped to `True`. This limits the functions that could be executed during unpickling. Arbitrary objects will no longer be allowed to be loaded via this mode unless they are explicitly allowlisted by the user via `torch.serialization.add_safe_globals`. We recommend you start setting `weights_only=True` for any use case where you don't have full control of the loaded file. Please open an issue on GitHub for any issues related to this experimental feature.\n",
      "  val_tensor = torch.load(f'../data/tsp/valDataset-{n_node}.pt')\n",
      "epoch 0: [69.18849708557129, 65.78765129089355, 64.82745876312256]\n",
      "Training DeepACO (without local search)...:   0%|         | 0/5 [00:00<?, ?it/s]epoch 1: [31.89193811416626, 29.909920978546143, 27.345654335021973]\n",
      "Training DeepACO (without local search)...:  20%|▏| 1/5 [04:22<17:30, 262.51s/itepoch 2: [22.32194751739502, 21.15029623031616, 20.137259101867677]\n",
      "Training DeepACO (without local search)...:  40%|▍| 2/5 [08:52<13:20, 266.91s/itepoch 3: [22.192274036407472, 21.004966564178467, 19.964007415771484]\n",
      "Training DeepACO (without local search)...:  60%|▌| 3/5 [16:01<10:41, 320.59s/it\n",
      "Traceback (most recent call last):\n",
      "  File \"/Users/erostrate9/Desktop/CSI5137B test/project/code/DeepACO/tsp/train.py\", line 152, in <module>\n",
      "    train(\n",
      "  File \"/Users/erostrate9/Desktop/CSI5137B test/project/code/DeepACO/tsp/train.py\", line 107, in train\n",
      "    stats = validation(n_ants, epoch, net, val_list)\n",
      "            ^^^^^^^^^^^^^^^^^^^^^^^^^^^^^^^^^^^^^^^^\n",
      "  File \"/Users/erostrate9/miniconda3/envs/gfacs/lib/python3.11/site-packages/torch/utils/_contextlib.py\", line 116, in decorate_context\n",
      "    return func(*args, **kwargs)\n",
      "           ^^^^^^^^^^^^^^^^^^^^^\n",
      "  File \"/Users/erostrate9/Desktop/CSI5137B test/project/code/DeepACO/tsp/train.py\", line 79, in validation\n",
      "    stats.append(infer_instance(net, data, distances, n_ants))\n",
      "                 ^^^^^^^^^^^^^^^^^^^^^^^^^^^^^^^^^^^^^^^^^^^^\n",
      "  File \"/Users/erostrate9/Desktop/CSI5137B test/project/code/DeepACO/tsp/train.py\", line 51, in infer_instance\n",
      "    aco.run(n_iterations=T)\n",
      "  File \"/Users/erostrate9/miniconda3/envs/gfacs/lib/python3.11/site-packages/torch/utils/_contextlib.py\", line 116, in decorate_context\n",
      "    return func(*args, **kwargs)\n",
      "           ^^^^^^^^^^^^^^^^^^^^^\n",
      "  File \"/Users/erostrate9/Desktop/CSI5137B test/project/code/DeepACO/tsp/aco.py\", line 77, in run\n",
      "    paths = self.gen_path(require_prob=False)\n",
      "            ^^^^^^^^^^^^^^^^^^^^^^^^^^^^^^^^^\n",
      "  File \"/Users/erostrate9/Desktop/CSI5137B test/project/code/DeepACO/tsp/aco.py\", line 152, in gen_path\n",
      "    actions, log_probs = self.pick_move(prev, mask, require_prob)\n",
      "                         ^^^^^^^^^^^^^^^^^^^^^^^^^^^^^^^^^^^^^^^^\n",
      "  File \"/Users/erostrate9/Desktop/CSI5137B test/project/code/DeepACO/tsp/aco.py\", line 196, in pick_move\n",
      "    dist = Categorical(dist)\n",
      "           ^^^^^^^^^^^^^^^^^\n",
      "  File \"/Users/erostrate9/miniconda3/envs/gfacs/lib/python3.11/site-packages/torch/distributions/categorical.py\", line 72, in __init__\n",
      "    super().__init__(batch_shape, validate_args=validate_args)\n",
      "  File \"/Users/erostrate9/miniconda3/envs/gfacs/lib/python3.11/site-packages/torch/distributions/distribution.py\", line 71, in __init__\n",
      "    raise ValueError(\n",
      "ValueError: Expected parameter probs (Tensor of shape (50, 500)) of distribution Categorical(probs: torch.Size([50, 500])) to satisfy the constraint Simplex(), but found invalid values:\n",
      "tensor([[0.0000e+00, 1.6388e-10, 1.6388e-10,  ..., 1.6388e-10, 1.6388e-10,\n",
      "         0.0000e+00],\n",
      "        [0.0000e+00, 4.0496e-08, 4.0496e-08,  ..., 4.0496e-08, 4.0496e-08,\n",
      "         0.0000e+00],\n",
      "        [0.0000e+00, 9.1447e-12, 9.1447e-12,  ..., 9.1447e-12, 9.1447e-12,\n",
      "         0.0000e+00],\n",
      "        ...,\n",
      "        [0.0000e+00, 7.4541e-08, 6.1436e-12,  ..., 6.1436e-12, 6.1436e-12,\n",
      "         5.9437e-05],\n",
      "        [0.0000e+00, 1.2925e-11, 1.2925e-11,  ..., 1.2925e-11, 1.2925e-11,\n",
      "         5.5912e-08],\n",
      "        [0.0000e+00, 1.2040e-11, 1.2040e-11,  ..., 1.2040e-11, 1.2040e-11,\n",
      "         0.0000e+00]])\n"
     ]
    }
   ],
   "source": [
    "# TODO\n",
    "!cd ../tsp && python train.py 500 --ants 50 --epochs 5 --steps 128 --batch_size 1"
   ]
  },
  {
   "cell_type": "markdown",
   "metadata": {},
   "source": [
    "Learn heuristic for TSP1000: "
   ]
  },
  {
   "cell_type": "code",
   "execution_count": null,
   "metadata": {},
   "outputs": [],
   "source": [
    "# TODO\n",
    "!cd ../tsp && python train_simple.py 1000 --ants 100 --epochs 5 --steps 128"
   ]
  },
  {
   "cell_type": "code",
   "execution_count": 29,
   "metadata": {},
   "outputs": [
    {
     "name": "stdout",
     "output_type": "stream",
     "text": [
      "The device to train NNs: cpu\n",
      "/Users/erostrate9/Desktop/CSI5137B test/project/code/DeepACO/tsp/utils.py:65: FutureWarning: You are using `torch.load` with `weights_only=False` (the current default value), which uses the default pickle module implicitly. It is possible to construct malicious pickle data which will execute arbitrary code during unpickling (See https://github.com/pytorch/pytorch/blob/main/SECURITY.md#untrusted-models for more details). In a future release, the default value for `weights_only` will be flipped to `True`. This limits the functions that could be executed during unpickling. Arbitrary objects will no longer be allowed to be loaded via this mode unless they are explicitly allowlisted by the user via `torch.serialization.add_safe_globals`. We recommend you start setting `weights_only=True` for any use case where you don't have full control of the loaded file. Please open an issue on GitHub for any issues related to this experimental feature.\n",
      "  val_tensor = torch.load(f'../data/tsp/valDataset-{n_node}.pt')\n",
      "epoch 0: [133.15720825195314, 128.3060073852539, 127.08068084716797]\n",
      "Training DeepACO (without local search)...:   0%|         | 0/5 [00:00<?, ?it/s]^C\n"
     ]
    }
   ],
   "source": [
    "# TODO\n",
    "!cd ../tsp && python train.py 1000 --ants 100 --epochs 5 --steps 128 --batch_size 1"
   ]
  },
  {
   "cell_type": "markdown",
   "metadata": {},
   "source": [
    "# DeepACO (NLS)"
   ]
  },
  {
   "cell_type": "markdown",
   "metadata": {},
   "source": [
    "Learn heuristic for TSP20: "
   ]
  },
  {
   "cell_type": "code",
   "execution_count": null,
   "metadata": {},
   "outputs": [
    {
     "name": "stdout",
     "output_type": "stream",
     "text": [
      "The device to train NNs: cpu\n"
     ]
    },
    {
     "name": "stderr",
     "output_type": "stream",
     "text": [
      "/Users/erostrate9/Desktop/CSI5137B test/project/code/DeepACO/tsp_nls/utils.py:82: FutureWarning: You are using `torch.load` with `weights_only=False` (the current default value), which uses the default pickle module implicitly. It is possible to construct malicious pickle data which will execute arbitrary code during unpickling (See https://github.com/pytorch/pytorch/blob/main/SECURITY.md#untrusted-models for more details). In a future release, the default value for `weights_only` will be flipped to `True`. This limits the functions that could be executed during unpickling. Arbitrary objects will no longer be allowed to be loaded via this mode unless they are explicitly allowlisted by the user via `torch.serialization.add_safe_globals`. We recommend you start setting `weights_only=True` for any use case where you don't have full control of the loaded file. Please open an issue on GitHub for any issues related to this experimental feature.\n",
      "  val_tensor = torch.load(f'../data/tsp/valDataset-{n_node}.pt')\n"
     ]
    },
    {
     "name": "stdout",
     "output_type": "stream",
     "text": [
      "epoch 0: [6.081226634979248, 4.9889710736274715, 3.8080585169792176, 3.807668459415436]\n",
      "epoch 1: [5.96509361743927, 4.879833083152771, 3.8081219530105592, 3.807695384025574]\n",
      "epoch 2: [5.823165454864502, 4.842395370006561, 3.8089355278015136, 3.807913236618042]\n",
      "epoch 3: [5.723736457824707, 4.688521044254303, 3.808310339450836, 3.808134768009186]\n",
      "epoch 4: [5.706110844612121, 4.725129263401032, 3.8093966746330263, 3.8081639409065247]\n",
      "epoch 5: [5.689695091247558, 4.697349498271942, 3.809689872264862, 3.8079058051109316]\n",
      "epoch 6: [5.6563414144515995, 4.7174916219711305, 3.808587257862091, 3.8081639409065247]\n",
      "epoch 7: [5.641376461982727, 4.713018698692322, 3.8087523913383485, 3.808332064151764]\n",
      "epoch 8: [5.669096961021423, 4.700407502651214, 3.8091753482818604, 3.8080947399139404]\n",
      "epoch 9: [5.65703040599823, 4.669917423725128, 3.80959929227829, 3.8087660765647886]\n",
      "epoch 10: [5.67566225528717, 4.714896128177643, 3.8093576407432557, 3.8079191851615906]\n",
      "epoch 11: [5.667286972999573, 4.671483762264252, 3.808853688240051, 3.808121643066406]\n",
      "epoch 12: [5.649563007354736, 4.6796337890625, 3.808629584312439, 3.8083664107322694]\n",
      "epoch 13: [5.6948266077041625, 4.719093973636627, 3.8088278007507324, 3.8083261394500734]\n",
      "epoch 14: [5.660270886421204, 4.695415215492249, 3.8083979272842408, 3.807890005111694]\n",
      "epoch 15: [5.641049628257751, 4.713221743106842, 3.809040720462799, 3.8084385800361633]\n",
      "epoch 16: [5.649344067573548, 4.672367064952851, 3.808650269508362, 3.8081216502189634]\n",
      "epoch 17: [5.65880551815033, 4.650297961235046, 3.8091520714759826, 3.80829922914505]\n",
      "epoch 18: [5.649861512184143, 4.67242121219635, 3.8094562458992005, 3.8084179902076722]\n",
      "epoch 19: [5.663762383460998, 4.732704224586487, 3.8092101645469665, 3.8085768175125123]\n",
      "epoch 20: [5.666039156913757, 4.733493361473084, 3.808984332084656, 3.8079401421546937]\n"
     ]
    },
    {
     "name": "stderr",
     "output_type": "stream",
     "text": [
      "Training DeepACO (NLS)...: 100%|██████████| 20/20 [06:42<00:00, 20.12s/it]\n"
     ]
    },
    {
     "name": "stdout",
     "output_type": "stream",
     "text": [
      "Final total training epochs: 20\n",
      "Final total training steps: 12800\n",
      "Best parameters was obtained from epoch -1\n",
      "\n",
      "total training duration: 245.4834942817688\n",
      "Final total training instances processed: 640\n"
     ]
    }
   ],
   "source": [
    "%%bash\n",
    "cd ../tsp_nls\n",
    "python train.py 20 --ants 10 --epochs 20 --batch_size 32"
   ]
  },
  {
   "cell_type": "code",
   "execution_count": null,
   "metadata": {},
   "outputs": [
    {
     "name": "stdout",
     "output_type": "stream",
     "text": [
      "The device to train NNs: cpu\n",
      "/Users/erostrate9/Desktop/CSI5137B test/project/code/DeepACO/tsp_nls/utils.py:82: FutureWarning: You are using `torch.load` with `weights_only=False` (the current default value), which uses the default pickle module implicitly. It is possible to construct malicious pickle data which will execute arbitrary code during unpickling (See https://github.com/pytorch/pytorch/blob/main/SECURITY.md#untrusted-models for more details). In a future release, the default value for `weights_only` will be flipped to `True`. This limits the functions that could be executed during unpickling. Arbitrary objects will no longer be allowed to be loaded via this mode unless they are explicitly allowlisted by the user via `torch.serialization.add_safe_globals`. We recommend you start setting `weights_only=True` for any use case where you don't have full control of the loaded file. Please open an issue on GitHub for any issues related to this experimental feature.\n",
      "  val_tensor = torch.load(f'../data/tsp/valDataset-{n_node}.pt')\n",
      "epoch 0: [6.063500609397888, 4.961164059638977, 3.8085623598098755, 3.8079132294654845]\n",
      "Training DeepACO (NLS)...:   0%|                          | 0/5 [00:00<?, ?it/s]epoch 1: [5.908679022789001, 4.800716543197632, 3.8081642484664915, 3.8074929094314576]\n",
      "Training DeepACO (NLS)...:  20%|███▌              | 1/5 [00:10<00:41, 10.36s/it]epoch 2: [6.027291040420533, 4.880699012279511, 3.808005919456482, 3.8074929022789004]\n",
      "Training DeepACO (NLS)...:  40%|███████▏          | 2/5 [00:20<00:30, 10.16s/it]epoch 3: [5.76729688167572, 4.747690532207489, 3.8082483911514284, 3.807492914199829]\n",
      "Training DeepACO (NLS)...:  60%|██████████▊       | 3/5 [00:30<00:20, 10.15s/it]epoch 4: [5.776711020469666, 4.737186453342438, 3.8097265577316284, 3.808178513050079]\n",
      "Training DeepACO (NLS)...:  80%|██████████████▍   | 4/5 [00:40<00:10, 10.16s/it]epoch 5: [5.762786784172058, 4.734066040515899, 3.80936178445816, 3.8081236553192137]\n",
      "Training DeepACO (NLS)...: 100%|██████████████████| 5/5 [00:50<00:00, 10.14s/it]\n",
      "Final total training epochs: 5\n",
      "Best parameters was obtained from epoch 2\n",
      "\n",
      "total training duration: 13.534788370132446\n",
      "Final total training instances processed: 640\n"
     ]
    }
   ],
   "source": [
    "!cd ../tsp_nls && python train.py 20 --ants 10 --epochs 5 --steps 128 --batch_size 1 "
   ]
  },
  {
   "cell_type": "markdown",
   "metadata": {},
   "source": [
    "Learn heuristic for TSP100: "
   ]
  },
  {
   "cell_type": "code",
   "execution_count": 8,
   "metadata": {},
   "outputs": [
    {
     "name": "stdout",
     "output_type": "stream",
     "text": [
      "The device to train NNs: cpu\n",
      "/Users/erostrate9/Desktop/CSI5137B test/project/code/DeepACO/tsp_nls/utils.py:82: FutureWarning: You are using `torch.load` with `weights_only=False` (the current default value), which uses the default pickle module implicitly. It is possible to construct malicious pickle data which will execute arbitrary code during unpickling (See https://github.com/pytorch/pytorch/blob/main/SECURITY.md#untrusted-models for more details). In a future release, the default value for `weights_only` will be flipped to `True`. This limits the functions that could be executed during unpickling. Arbitrary objects will no longer be allowed to be loaded via this mode unless they are explicitly allowlisted by the user via `torch.serialization.add_safe_globals`. We recommend you start setting `weights_only=True` for any use case where you don't have full control of the loaded file. Please open an issue on GitHub for any issues related to this experimental feature.\n",
      "  val_tensor = torch.load(f'../data/tsp/valDataset-{n_node}.pt')\n",
      "epoch 0: [17.51928398132324, 15.642835874557495, 7.9789213514328, 7.875550589561462]\n",
      "Training DeepACO (NLS)...:   0%|                         | 0/20 [00:00<?, ?it/s]epoch 1: [16.559280881881715, 14.59291883468628, 7.90115225315094, 7.815080580711364]\n",
      "Training DeepACO (NLS)...:   5%|▊                | 1/20 [00:55<17:30, 55.30s/it]epoch 2: [14.452498626708984, 12.685095481872558, 7.921611008644104, 7.833082962036133]\n",
      "Training DeepACO (NLS)...:  10%|█▋               | 2/20 [01:50<16:29, 54.98s/it]epoch 3: [12.693554134368897, 11.052267274856568, 7.878416543006897, 7.807660999298096]\n",
      "Training DeepACO (NLS)...:  15%|██▌              | 3/20 [02:43<15:24, 54.41s/it]epoch 4: [11.773573389053345, 10.26264741897583, 7.861864004135132, 7.798876342773437]\n",
      "Training DeepACO (NLS)...:  20%|███▍             | 4/20 [03:39<14:39, 54.99s/it]epoch 5: [11.233578395843505, 9.809011898040772, 7.8407972621917725, 7.788949203491211]\n",
      "Training DeepACO (NLS)...:  25%|████▎            | 5/20 [04:38<14:04, 56.30s/it]epoch 6: [10.913055992126464, 9.588310613632203, 7.816946158409118, 7.779745907783508]\n",
      "Training DeepACO (NLS)...:  30%|█████            | 6/20 [05:34<13:06, 56.19s/it]epoch 7: [10.9648388671875, 9.587955923080445, 7.805954852104187, 7.779026665687561]\n",
      "Training DeepACO (NLS)...:  35%|█████▉           | 7/20 [06:28<12:03, 55.64s/it]epoch 8: [10.901182050704955, 9.56070785522461, 7.814149994850158, 7.778228616714477]\n",
      "Training DeepACO (NLS)...:  40%|██████▊          | 8/20 [07:23<11:05, 55.43s/it]epoch 9: [10.789041805267335, 9.481058130264282, 7.817944197654724, 7.7793199634552]\n",
      "Training DeepACO (NLS)...:  45%|███████▋         | 9/20 [08:20<10:14, 55.84s/it]epoch 10: [10.77575315475464, 9.419869527816772, 7.80879319190979, 7.777072443962097]\n",
      "Training DeepACO (NLS)...:  50%|████████        | 10/20 [09:16<09:18, 55.85s/it]epoch 11: [10.784617862701417, 9.442953443527221, 7.811212797164917, 7.780197949409485]\n",
      "Training DeepACO (NLS)...:  55%|████████▊       | 11/20 [10:12<08:22, 55.87s/it]epoch 12: [10.771816911697387, 9.503066730499267, 7.804304618835449, 7.773691272735595]\n",
      "Training DeepACO (NLS)...:  60%|█████████▌      | 12/20 [11:08<07:28, 56.04s/it]epoch 13: [10.756784687042236, 9.479072742462158, 7.806189212799072, 7.778720951080322]\n",
      "Training DeepACO (NLS)...:  65%|██████████▍     | 13/20 [12:07<06:38, 56.88s/it]epoch 14: [10.763332834243775, 9.419546575546265, 7.806494584083557, 7.778490958213806]\n",
      "Training DeepACO (NLS)...:  70%|███████████▏    | 14/20 [13:00<05:34, 55.76s/it]epoch 15: [10.723454599380494, 9.460092926025391, 7.811207809448242, 7.7771290683746335]\n",
      "Training DeepACO (NLS)...:  75%|████████████    | 15/20 [13:55<04:37, 55.47s/it]epoch 16: [10.768769340515137, 9.494124307632447, 7.815361614227295, 7.7790605211257935]\n",
      "Training DeepACO (NLS)...:  80%|████████████▊   | 16/20 [14:48<03:39, 54.85s/it]epoch 17: [10.734053945541381, 9.441813774108887, 7.813036074638367, 7.779397120475769]\n",
      "Training DeepACO (NLS)...:  85%|█████████████▌  | 17/20 [15:45<02:46, 55.34s/it]epoch 18: [10.759363803863526, 9.430344610214233, 7.8111662006378175, 7.77990761756897]\n",
      "Training DeepACO (NLS)...:  90%|██████████████▍ | 18/20 [16:42<01:51, 55.82s/it]epoch 19: [10.750228853225709, 9.409680242538451, 7.807626581192016, 7.778668107986451]\n",
      "Training DeepACO (NLS)...:  95%|███████████████▏| 19/20 [17:32<00:54, 54.24s/it]epoch 20: [10.758933601379395, 9.450179471969605, 7.811282639503479, 7.77947587966919]\n",
      "Training DeepACO (NLS)...: 100%|████████████████| 20/20 [18:16<00:00, 54.81s/it]\n",
      "Final total training epochs: 20\n",
      "Final total training steps: 12800\n",
      "Best parameters was obtained from epoch 12\n",
      "\n",
      "total training duration: 782.933616399765\n",
      "Final total training instances processed: 640\n"
     ]
    }
   ],
   "source": [
    "!cd ../tsp_nls && python train.py 100 --ants 20 --epochs 20 --batch_size 32"
   ]
  },
  {
   "cell_type": "code",
   "execution_count": null,
   "metadata": {},
   "outputs": [
    {
     "name": "stdout",
     "output_type": "stream",
     "text": [
      "The device to train NNs: cpu\n",
      "/Users/erostrate9/Desktop/CSI5137B test/project/code/DeepACO/tsp_nls/utils.py:82: FutureWarning: You are using `torch.load` with `weights_only=False` (the current default value), which uses the default pickle module implicitly. It is possible to construct malicious pickle data which will execute arbitrary code during unpickling (See https://github.com/pytorch/pytorch/blob/main/SECURITY.md#untrusted-models for more details). In a future release, the default value for `weights_only` will be flipped to `True`. This limits the functions that could be executed during unpickling. Arbitrary objects will no longer be allowed to be loaded via this mode unless they are explicitly allowlisted by the user via `torch.serialization.add_safe_globals`. We recommend you start setting `weights_only=True` for any use case where you don't have full control of the loaded file. Please open an issue on GitHub for any issues related to this experimental feature.\n",
      "  val_tensor = torch.load(f'../data/tsp/valDataset-{n_node}.pt')\n",
      "epoch 0: [17.482306995391845, 15.595782842636108, 7.991520528793335, 7.894132137298584]\n",
      "Training DeepACO (NLS)...:   0%|                          | 0/5 [00:00<?, ?it/s]epoch 1: [13.027614765167236, 11.360971298217773, 7.900911865234375, 7.8189890003204345]\n",
      "Training DeepACO (NLS)...:  20%|███▌              | 1/5 [00:18<01:13, 18.36s/it]epoch 2: [11.209635562896729, 9.886996116638183, 7.8340011310577395, 7.790634794235229]\n",
      "Training DeepACO (NLS)...:  40%|███████▏          | 2/5 [00:36<00:54, 18.04s/it]epoch 3: [11.168089561462402, 9.759866876602173, 7.809847826957703, 7.780350470542908]\n",
      "Training DeepACO (NLS)...:  60%|██████████▊       | 3/5 [00:54<00:36, 18.19s/it]epoch 4: [10.963338527679444, 9.645776586532593, 7.820641050338745, 7.785481777191162]\n",
      "Training DeepACO (NLS)...:  80%|██████████████▍   | 4/5 [01:12<00:18, 18.02s/it]epoch 5: [10.93665319442749, 9.626398267745971, 7.811584401130676, 7.783245978355407]\n",
      "Training DeepACO (NLS)...: 100%|██████████████████| 5/5 [01:29<00:00, 17.88s/it]\n",
      "Final total training epochs: 5\n",
      "Best parameters was obtained from epoch 3\n",
      "\n",
      "total training duration: 28.803818702697754\n",
      "Final total training instances processed: 640\n"
     ]
    }
   ],
   "source": [
    "!cd ../tsp_nls && python train.py 100 --ants 20 --epochs 5 --steps 128 --batch_size 1 "
   ]
  },
  {
   "cell_type": "markdown",
   "metadata": {},
   "source": [
    "Learn heuristic for TSP500: "
   ]
  },
  {
   "cell_type": "code",
   "execution_count": null,
   "metadata": {},
   "outputs": [],
   "source": [
    "# TODO\n",
    "!cd ../tsp_nls && python train.py 500 --ants 50 --epochs 5 --steps 128 --batch_size 1 "
   ]
  },
  {
   "cell_type": "markdown",
   "metadata": {},
   "source": [
    "Learn heuristic for TSP1000: "
   ]
  },
  {
   "cell_type": "code",
   "execution_count": null,
   "metadata": {},
   "outputs": [],
   "source": [
    "# TODO\n",
    "!cd ../tsp_nls && python train.py 1000 --ants 100 --epochs 5 --steps 128 --batch_size 1 "
   ]
  }
 ],
 "metadata": {
  "kernelspec": {
   "display_name": "gfacs",
   "language": "python",
   "name": "python3"
  },
  "language_info": {
   "codemirror_mode": {
    "name": "ipython",
    "version": 3
   },
   "file_extension": ".py",
   "mimetype": "text/x-python",
   "name": "python",
   "nbconvert_exporter": "python",
   "pygments_lexer": "ipython3",
   "version": "3.11.10"
  }
 },
 "nbformat": 4,
 "nbformat_minor": 2
}

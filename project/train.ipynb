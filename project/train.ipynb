{
 "cells": [
  {
   "cell_type": "markdown",
   "metadata": {},
   "source": [
    "# Colab settings"
   ]
  },
  {
   "cell_type": "code",
   "execution_count": null,
   "metadata": {},
   "outputs": [],
   "source": [
    "!cd /content/DeepACO/ && pip install -r requirements.txt"
   ]
  },
  {
   "cell_type": "code",
   "execution_count": null,
   "metadata": {},
   "outputs": [],
   "source": [
    "from google.colab import drive\n",
    "drive.mount('/content/drive')"
   ]
  },
  {
   "cell_type": "code",
   "execution_count": null,
   "metadata": {},
   "outputs": [],
   "source": [
    "!git clone https://github.com/Erostrate9/DeepACO\n",
    "!git config --global user.email ericsun42@outlook.com\n",
    "!git config --global user.name Erostrate9\n",
    "!mkdir -p /root/.ssh && cp -r \"/content/drive/My Drive/ssh/.\" /root/.ssh/\n",
    "!ssh -T git@github.com"
   ]
  },
  {
   "cell_type": "code",
   "execution_count": null,
   "metadata": {},
   "outputs": [],
   "source": [
    "import os\n",
    "os.chdir('/content/DeepACO/project')"
   ]
  },
  {
   "cell_type": "code",
   "execution_count": null,
   "metadata": {},
   "outputs": [],
   "source": [
    "%%bash\n",
    "cd /content/DeepACO\n",
    "git add .\n",
    "git commit -m \"Update tsp_nls pre-trained models\"\n",
    "git push"
   ]
  },
  {
   "cell_type": "markdown",
   "metadata": {},
   "source": [
    "# Training\n"
   ]
  },
  {
   "cell_type": "markdown",
   "metadata": {},
   "source": [
    "## DeepACO (without LS)"
   ]
  },
  {
   "cell_type": "markdown",
   "metadata": {},
   "source": [
    "Learn heuristic for TSP20: "
   ]
  },
  {
   "cell_type": "code",
   "execution_count": 22,
   "metadata": {},
   "outputs": [
    {
     "name": "stdout",
     "output_type": "stream",
     "text": [
      "The device to train NNs: cpu\n",
      "/Users/erostrate9/Desktop/CSI5137B test/project/code/DeepACO/tsp/utils.py:65: FutureWarning: You are using `torch.load` with `weights_only=False` (the current default value), which uses the default pickle module implicitly. It is possible to construct malicious pickle data which will execute arbitrary code during unpickling (See https://github.com/pytorch/pytorch/blob/main/SECURITY.md#untrusted-models for more details). In a future release, the default value for `weights_only` will be flipped to `True`. This limits the functions that could be executed during unpickling. Arbitrary objects will no longer be allowed to be loaded via this mode unless they are explicitly allowlisted by the user via `torch.serialization.add_safe_globals`. We recommend you start setting `weights_only=True` for any use case where you don't have full control of the loaded file. Please open an issue on GitHub for any issues related to this experimental feature.\n",
      "  val_tensor = torch.load(f'../data/tsp/valDataset-{n_node}.pt')\n",
      "epoch 0: [6.091161217689514, 5.14381121635437, 4.55048020362854]\n",
      "Training DeepACO (without local search)...:   0%|         | 0/5 [00:00<?, ?it/s]epoch 1: [5.868319592475891, 5.031237680912017, 4.497672016620636]\n",
      "Training DeepACO (without local search)...:  20%|▏| 1/5 [00:01<00:07,  1.97s/it]epoch 2: [5.761025590896606, 4.8918616843223575, 4.471458008289337]\n",
      "Training DeepACO (without local search)...:  40%|▍| 2/5 [00:03<00:05,  1.91s/it]epoch 3: [5.692867279052734, 4.798906490802765, 4.424783315658569]\n",
      "Training DeepACO (without local search)...:  60%|▌| 3/5 [00:05<00:03,  1.90s/it]epoch 4: [5.706237688064575, 4.839691960811615, 4.449042129516601]\n",
      "Training DeepACO (without local search)...:  80%|▊| 4/5 [00:07<00:01,  1.89s/it]epoch 5: [5.727613892555237, 4.861117389202118, 4.417121686935425]\n",
      "Training DeepACO (without local search)...: 100%|█| 5/5 [00:09<00:00,  1.90s/it]\n",
      "Final total training epochs: 5\n",
      "Best parameters was obtained from epoch 5\n",
      "\n",
      "total training duration: 5.252630233764648\n",
      "Final total training instances processed: 640\n"
     ]
    }
   ],
   "source": [
    "!cd ../tsp && python train.py 20 --ants 10 --epochs 5 --steps 128 --batch_size 1"
   ]
  },
  {
   "cell_type": "markdown",
   "metadata": {},
   "source": [
    "Learn heuristic for TSP100: "
   ]
  },
  {
   "cell_type": "code",
   "execution_count": 27,
   "metadata": {},
   "outputs": [
    {
     "name": "stdout",
     "output_type": "stream",
     "text": [
      "The device to train NNs: cpu\n",
      "/Users/erostrate9/Desktop/CSI5137B test/project/code/DeepACO/tsp/utils.py:65: FutureWarning: You are using `torch.load` with `weights_only=False` (the current default value), which uses the default pickle module implicitly. It is possible to construct malicious pickle data which will execute arbitrary code during unpickling (See https://github.com/pytorch/pytorch/blob/main/SECURITY.md#untrusted-models for more details). In a future release, the default value for `weights_only` will be flipped to `True`. This limits the functions that could be executed during unpickling. Arbitrary objects will no longer be allowed to be loaded via this mode unless they are explicitly allowlisted by the user via `torch.serialization.add_safe_globals`. We recommend you start setting `weights_only=True` for any use case where you don't have full control of the loaded file. Please open an issue on GitHub for any issues related to this experimental feature.\n",
      "  val_tensor = torch.load(f'../data/tsp/valDataset-{n_node}.pt')\n",
      "epoch 0: [17.51987865447998, 15.576042108535766, 14.835975704193116]\n",
      "Training DeepACO (without local search)...:   0%|         | 0/5 [00:00<?, ?it/s]epoch 1: [12.337867946624756, 11.008512840270996, 10.252290201187133]\n",
      "Training DeepACO (without local search)...:  20%|▏| 1/5 [00:09<00:38,  9.62s/it]epoch 2: [10.300147609710693, 9.399590063095093, 8.938127660751343]\n",
      "Training DeepACO (without local search)...:  40%|▍| 2/5 [00:19<00:28,  9.58s/it]epoch 3: [10.124732398986817, 9.16007022857666, 8.786394281387329]\n",
      "Training DeepACO (without local search)...:  60%|▌| 3/5 [00:28<00:19,  9.51s/it]epoch 4: [10.004349756240845, 9.09848928451538, 8.718536596298218]\n",
      "Training DeepACO (without local search)...:  80%|▊| 4/5 [00:38<00:09,  9.47s/it]epoch 5: [9.972892351150513, 9.088208847045898, 8.687179269790649]\n",
      "Training DeepACO (without local search)...: 100%|█| 5/5 [00:47<00:00,  9.46s/it]\n",
      "Final total training epochs: 5\n",
      "Best parameters was obtained from epoch 5\n",
      "\n",
      "total training duration: 18.66186285018921\n",
      "Final total training instances processed: 640\n"
     ]
    }
   ],
   "source": [
    "!cd ../tsp && python train.py 100 --ants 20 --epochs 5 --steps 128 --batch_size 1"
   ]
  },
  {
   "cell_type": "markdown",
   "metadata": {},
   "source": [
    "Learn heuristic for TSP500: "
   ]
  },
  {
   "cell_type": "code",
   "execution_count": 31,
   "metadata": {},
   "outputs": [
    {
     "name": "stdout",
     "output_type": "stream",
     "text": [
      "The device to train NNs: cpu\n",
      "k_sparse: 50\n",
      "/Users/erostrate9/Desktop/CSI5137B test/project/code/DeepACO/tsp/utils.py:65: FutureWarning: You are using `torch.load` with `weights_only=False` (the current default value), which uses the default pickle module implicitly. It is possible to construct malicious pickle data which will execute arbitrary code during unpickling (See https://github.com/pytorch/pytorch/blob/main/SECURITY.md#untrusted-models for more details). In a future release, the default value for `weights_only` will be flipped to `True`. This limits the functions that could be executed during unpickling. Arbitrary objects will no longer be allowed to be loaded via this mode unless they are explicitly allowlisted by the user via `torch.serialization.add_safe_globals`. We recommend you start setting `weights_only=True` for any use case where you don't have full control of the loaded file. Please open an issue on GitHub for any issues related to this experimental feature.\n",
      "  val_tensor = torch.load(f'../data/tsp/valDataset-{n_node}.pt')\n",
      "Training DeepACO (without LC)...: 100%|██████████| 5/5 [17:23<00:00, 208.77s/it]\n",
      "epoch -1: (69.13168434143067, 65.84419883728027, 64.75081451416015)\n",
      "epoch 0: (28.409683094024658, 26.363768825531007, 24.35328063964844)\n",
      "epoch 1: (23.787411975860596, 22.032269973754882, 20.89859842300415)\n",
      "epoch 2: (22.618357372283935, 21.53427192687988, 20.469810523986816)\n",
      "epoch 3: (22.615760974884033, 21.59621156692505, 20.585130596160887)\n",
      "epoch 4: (22.30005641937256, 21.235708866119385, 20.275180435180665)\n",
      "total training duration: 305.8127188682556\n",
      "Final total training epochs: 5\n",
      "Best parameters was obtained from epoch 4\n",
      "Final total training instances processed: 640\n"
     ]
    }
   ],
   "source": [
    "# TODO\n",
    "!cd ../tsp && python train_simple.py 500 --ants 50 --epochs 5 --steps 128"
   ]
  },
  {
   "cell_type": "markdown",
   "metadata": {},
   "source": [
    "Learn heuristic for TSP1000: "
   ]
  },
  {
   "cell_type": "code",
   "execution_count": 32,
   "metadata": {},
   "outputs": [
    {
     "name": "stdout",
     "output_type": "stream",
     "text": [
      "The device to train NNs: cpu\n",
      "k_sparse: 100\n",
      "/Users/erostrate9/Desktop/CSI5137B test/project/code/DeepACO/tsp/utils.py:65: FutureWarning: You are using `torch.load` with `weights_only=False` (the current default value), which uses the default pickle module implicitly. It is possible to construct malicious pickle data which will execute arbitrary code during unpickling (See https://github.com/pytorch/pytorch/blob/main/SECURITY.md#untrusted-models for more details). In a future release, the default value for `weights_only` will be flipped to `True`. This limits the functions that could be executed during unpickling. Arbitrary objects will no longer be allowed to be loaded via this mode unless they are explicitly allowlisted by the user via `torch.serialization.add_safe_globals`. We recommend you start setting `weights_only=True` for any use case where you don't have full control of the loaded file. Please open an issue on GitHub for any issues related to this experimental feature.\n",
      "  val_tensor = torch.load(f'../data/tsp/valDataset-{n_node}.pt')\n",
      "Training DeepACO (without LC)...: 100%|██████████| 5/5 [29:04<00:00, 348.83s/it]\n",
      "epoch -1: (133.18706665039062, 128.71715087890624, 127.66318054199219)\n",
      "epoch 0: (39.678961181640624, 37.68418197631836, 33.53108596801758)\n",
      "epoch 1: (34.03429412841797, 31.901293563842774, 29.667777252197265)\n",
      "epoch 2: (32.2795166015625, 30.57445373535156, 28.798572540283203)\n",
      "epoch 3: (33.03395004272461, 31.189491271972656, 29.66573600769043)\n",
      "epoch 4: (32.00214462280273, 30.36515121459961, 28.743355560302735)\n",
      "total training duration: 1551.4005370140076\n",
      "Final total training epochs: 5\n",
      "Best parameters was obtained from epoch 4\n",
      "Final total training instances processed: 640\n"
     ]
    }
   ],
   "source": [
    "# TODO\n",
    "!cd ../tsp && python train_simple.py 1000 --ants 100 --epochs 5 --steps 128"
   ]
  },
  {
   "cell_type": "markdown",
   "metadata": {},
   "source": [
    "# DeepACO (NLS)"
   ]
  },
  {
   "cell_type": "markdown",
   "metadata": {},
   "source": [
    "Learn heuristic for TSP20: "
   ]
  },
  {
   "cell_type": "code",
   "execution_count": null,
   "metadata": {},
   "outputs": [
    {
     "name": "stdout",
     "output_type": "stream",
     "text": [
      "The device to train NNs: cpu\n",
      "/Users/erostrate9/Desktop/CSI5137B test/project/code/DeepACO/tsp_nls/utils.py:82: FutureWarning: You are using `torch.load` with `weights_only=False` (the current default value), which uses the default pickle module implicitly. It is possible to construct malicious pickle data which will execute arbitrary code during unpickling (See https://github.com/pytorch/pytorch/blob/main/SECURITY.md#untrusted-models for more details). In a future release, the default value for `weights_only` will be flipped to `True`. This limits the functions that could be executed during unpickling. Arbitrary objects will no longer be allowed to be loaded via this mode unless they are explicitly allowlisted by the user via `torch.serialization.add_safe_globals`. We recommend you start setting `weights_only=True` for any use case where you don't have full control of the loaded file. Please open an issue on GitHub for any issues related to this experimental feature.\n",
      "  val_tensor = torch.load(f'../data/tsp/valDataset-{n_node}.pt')\n",
      "epoch 0: [6.063500609397888, 4.961164059638977, 3.8085623598098755, 3.8079132294654845]\n",
      "Training DeepACO (NLS)...:   0%|                          | 0/5 [00:00<?, ?it/s]epoch 1: [5.908679022789001, 4.800716543197632, 3.8081642484664915, 3.8074929094314576]\n",
      "Training DeepACO (NLS)...:  20%|███▌              | 1/5 [00:10<00:41, 10.36s/it]epoch 2: [6.027291040420533, 4.880699012279511, 3.808005919456482, 3.8074929022789004]\n",
      "Training DeepACO (NLS)...:  40%|███████▏          | 2/5 [00:20<00:30, 10.16s/it]epoch 3: [5.76729688167572, 4.747690532207489, 3.8082483911514284, 3.807492914199829]\n",
      "Training DeepACO (NLS)...:  60%|██████████▊       | 3/5 [00:30<00:20, 10.15s/it]epoch 4: [5.776711020469666, 4.737186453342438, 3.8097265577316284, 3.808178513050079]\n",
      "Training DeepACO (NLS)...:  80%|██████████████▍   | 4/5 [00:40<00:10, 10.16s/it]epoch 5: [5.762786784172058, 4.734066040515899, 3.80936178445816, 3.8081236553192137]\n",
      "Training DeepACO (NLS)...: 100%|██████████████████| 5/5 [00:50<00:00, 10.14s/it]\n",
      "Final total training epochs: 5\n",
      "Best parameters was obtained from epoch 2\n",
      "\n",
      "total training duration: 13.534788370132446\n",
      "Final total training instances processed: 640\n"
     ]
    }
   ],
   "source": [
    "!cd ../tsp_nls && python train.py 20 --ants 10 --epochs 5 --steps 128 --batch_size 1 "
   ]
  },
  {
   "cell_type": "markdown",
   "metadata": {},
   "source": [
    "Learn heuristic for TSP100: "
   ]
  },
  {
   "cell_type": "code",
   "execution_count": null,
   "metadata": {},
   "outputs": [
    {
     "name": "stdout",
     "output_type": "stream",
     "text": [
      "The device to train NNs: cpu\n",
      "/Users/erostrate9/Desktop/CSI5137B test/project/code/DeepACO/tsp_nls/utils.py:82: FutureWarning: You are using `torch.load` with `weights_only=False` (the current default value), which uses the default pickle module implicitly. It is possible to construct malicious pickle data which will execute arbitrary code during unpickling (See https://github.com/pytorch/pytorch/blob/main/SECURITY.md#untrusted-models for more details). In a future release, the default value for `weights_only` will be flipped to `True`. This limits the functions that could be executed during unpickling. Arbitrary objects will no longer be allowed to be loaded via this mode unless they are explicitly allowlisted by the user via `torch.serialization.add_safe_globals`. We recommend you start setting `weights_only=True` for any use case where you don't have full control of the loaded file. Please open an issue on GitHub for any issues related to this experimental feature.\n",
      "  val_tensor = torch.load(f'../data/tsp/valDataset-{n_node}.pt')\n",
      "epoch 0: [17.482306995391845, 15.595782842636108, 7.991520528793335, 7.894132137298584]\n",
      "Training DeepACO (NLS)...:   0%|                          | 0/5 [00:00<?, ?it/s]epoch 1: [13.027614765167236, 11.360971298217773, 7.900911865234375, 7.8189890003204345]\n",
      "Training DeepACO (NLS)...:  20%|███▌              | 1/5 [00:18<01:13, 18.36s/it]epoch 2: [11.209635562896729, 9.886996116638183, 7.8340011310577395, 7.790634794235229]\n",
      "Training DeepACO (NLS)...:  40%|███████▏          | 2/5 [00:36<00:54, 18.04s/it]epoch 3: [11.168089561462402, 9.759866876602173, 7.809847826957703, 7.780350470542908]\n",
      "Training DeepACO (NLS)...:  60%|██████████▊       | 3/5 [00:54<00:36, 18.19s/it]epoch 4: [10.963338527679444, 9.645776586532593, 7.820641050338745, 7.785481777191162]\n",
      "Training DeepACO (NLS)...:  80%|██████████████▍   | 4/5 [01:12<00:18, 18.02s/it]epoch 5: [10.93665319442749, 9.626398267745971, 7.811584401130676, 7.783245978355407]\n",
      "Training DeepACO (NLS)...: 100%|██████████████████| 5/5 [01:29<00:00, 17.88s/it]\n",
      "Final total training epochs: 5\n",
      "Best parameters was obtained from epoch 3\n",
      "\n",
      "total training duration: 28.803818702697754\n",
      "Final total training instances processed: 640\n"
     ]
    }
   ],
   "source": [
    "!cd ../tsp_nls && python train.py 100 --ants 20 --epochs 5 --steps 128 --batch_size 1 "
   ]
  },
  {
   "cell_type": "markdown",
   "metadata": {},
   "source": [
    "Learn heuristic for TSP500: "
   ]
  },
  {
   "cell_type": "code",
   "execution_count": null,
   "metadata": {},
   "outputs": [
    {
     "name": "stdout",
     "output_type": "stream",
     "text": [
      "The device to train NNs: cuda:0\n",
      "epoch 0: [69.1970408630371, 65.88697055816651, 17.688004970550537, 17.578262729644777]\n",
      "epoch 1: [66.56243949890137, 63.21793197631836, 17.554703884124756, 17.435104694366455]\n",
      "epoch 2: [33.84199649810791, 31.43085901260376, 17.56158618927002, 17.34905284881592]\n",
      "epoch 3: [26.462968196868896, 23.59849973678589, 17.112966651916505, 16.96459358215332]\n",
      "epoch 4: [25.95647747039795, 23.271622428894045, 17.073244762420654, 16.948987102508546]\n",
      "epoch 5: [23.99625196456909, 21.95212247848511, 17.09351831436157, 16.949578475952148]\n",
      "Final total training epochs: 5\n",
      "Best parameters was obtained from epoch 4\n",
      "\n",
      "total training duration: 2154.6931653022766\n",
      "Final total training instances processed: 640\n"
     ]
    },
    {
     "name": "stderr",
     "output_type": "stream",
     "text": [
      "f:\\5137_project\\DeepACO-main\\DeepACO-main\\tsp_nls\\utils.py:82: FutureWarning: You are using `torch.load` with `weights_only=False` (the current default value), which uses the default pickle module implicitly. It is possible to construct malicious pickle data which will execute arbitrary code during unpickling (See https://github.com/pytorch/pytorch/blob/main/SECURITY.md#untrusted-models for more details). In a future release, the default value for `weights_only` will be flipped to `True`. This limits the functions that could be executed during unpickling. Arbitrary objects will no longer be allowed to be loaded via this mode unless they are explicitly allowlisted by the user via `torch.serialization.add_safe_globals`. We recommend you start setting `weights_only=True` for any use case where you don't have full control of the loaded file. Please open an issue on GitHub for any issues related to this experimental feature.\n",
      "  val_tensor = torch.load(f'../data/tsp/valDataset-{n_node}.pt')\n",
      "\n",
      "Training DeepACO (NLS)...:   0%|          | 0/5 [00:00<?, ?it/s]\n",
      "Training DeepACO (NLS)...:  20%|██        | 1/5 [37:01<2:28:04, 2221.22s/it]\n",
      "Training DeepACO (NLS)...:  40%|████      | 2/5 [1:09:01<1:42:12, 2044.05s/it]\n",
      "Training DeepACO (NLS)...:  60%|██████    | 3/5 [1:35:06<1:00:51, 1825.53s/it]\n",
      "Training DeepACO (NLS)...:  80%|████████  | 4/5 [2:00:34<28:27, 1707.85s/it]  \n",
      "Training DeepACO (NLS)...: 100%|██████████| 5/5 [2:19:39<00:00, 1504.88s/it]\n",
      "Training DeepACO (NLS)...: 100%|██████████| 5/5 [2:19:39<00:00, 1675.84s/it]\n"
     ]
    }
   ],
   "source": [
    "!cd ../tsp_nls && python train.py 500 --ants 50 --epochs 5 --steps 128 --batch_size 1 "
   ]
  },
  {
   "cell_type": "markdown",
   "metadata": {},
   "source": [
    "Learn heuristic for TSP1000: "
   ]
  },
  {
   "cell_type": "code",
   "execution_count": null,
   "metadata": {},
   "outputs": [
    {
     "name": "stdout",
     "output_type": "stream",
     "text": [
      "The device to train NNs: cuda:0\n",
      "epoch 0: [133.15006774902344, 128.58346588134765, 25.05798469543457, 24.933537101745607]\n",
      "epoch 1: [39.55796447753906, 36.652204055786136, 24.46420825958252, 24.1099573135376]\n",
      "epoch 2: [40.40165008544922, 37.42614799499512, 24.645043296813967, 24.237840003967285]\n",
      "epoch 3: [40.2646329498291, 36.602139205932616, 24.279869956970217, 23.97065086364746]\n",
      "epoch 4: [39.33523628234863, 35.503259353637695, 24.127944717407228, 23.904967346191405]\n",
      "epoch 5: [34.43813911437988, 31.82344020843506, 24.10486099243164, 23.869115028381348]\n",
      "Final total training epochs: 5\n",
      "Best parameters was obtained from epoch 5\n",
      "\n",
      "total training duration: 7306.627638101578\n",
      "Final total training instances processed: 640\n"
     ]
    },
    {
     "name": "stderr",
     "output_type": "stream",
     "text": [
      "\n",
      "Training DeepACO (NLS)...:   0%|          | 0/5 [00:00<?, ?it/s]\n",
      "Training DeepACO (NLS)...:  20%|██        | 1/5 [1:14:00<4:56:01, 4440.37s/it]\n",
      "Training DeepACO (NLS)...:  40%|████      | 2/5 [2:18:41<3:25:34, 4111.51s/it]\n",
      "Training DeepACO (NLS)...:  60%|██████    | 3/5 [3:17:53<2:08:31, 3855.97s/it]\n",
      "Training DeepACO (NLS)...:  80%|████████  | 4/5 [4:13:59<1:01:02, 3662.40s/it]\n",
      "Training DeepACO (NLS)...: 100%|██████████| 5/5 [5:08:59<00:00, 3531.87s/it]  \n",
      "Training DeepACO (NLS)...: 100%|██████████| 5/5 [5:08:59<00:00, 3707.93s/it]\n"
     ]
    }
   ],
   "source": [
    "!cd ../tsp_nls && python train.py 1000 --ants 100 --epochs 5 --steps 128 --batch_size 1 "
   ]
  }
 ],
 "metadata": {
  "kernelspec": {
   "display_name": "gfacs",
   "language": "python",
   "name": "python3"
  },
  "language_info": {
   "codemirror_mode": {
    "name": "ipython",
    "version": 3
   },
   "file_extension": ".py",
   "mimetype": "text/x-python",
   "name": "python",
   "nbconvert_exporter": "python",
   "pygments_lexer": "ipython3",
   "version": "3.11.10"
  }
 },
 "nbformat": 4,
 "nbformat_minor": 2
}

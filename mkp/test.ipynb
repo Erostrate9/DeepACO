{
 "cells": [
  {
   "cell_type": "code",
   "execution_count": 1,
   "metadata": {},
   "outputs": [],
   "source": [
    "import time\n",
    "import torch\n",
    "from torch.distributions import Categorical, kl\n",
    "from d2l.torch import Animator\n",
    "\n",
    "from net import TransformerModel\n",
    "from aco import ACO\n",
    "from utils import gen_instance, reformat, load_test_dataset\n",
    "\n",
    "torch.manual_seed(1234)\n",
    "\n",
    "EPS = 1e-10\n",
    "device = 'cpu'"
   ]
  },
  {
   "cell_type": "code",
   "execution_count": 2,
   "metadata": {},
   "outputs": [],
   "source": [
    "def infer_instance(model, price, weight, n_ants, t_aco_diff):\n",
    "    if model:\n",
    "        model.eval()\n",
    "        src = reformat(price, weight)\n",
    "        phe_vec, heu_vec = model(src)\n",
    "        phe_vec, heu_vec = phe_vec.squeeze() + EPS, heu_vec.squeeze() + EPS\n",
    "        aco = ACO(\n",
    "            price=price,\n",
    "            weight=weight,\n",
    "            n_ants=n_ants,\n",
    "            pheromone=phe_vec,\n",
    "            heuristic=heu_vec,\n",
    "            device=device\n",
    "        )\n",
    "    else:\n",
    "        aco = ACO(\n",
    "            price=price,\n",
    "            weight=weight,\n",
    "            n_ants=n_ants,\n",
    "            device=device\n",
    "        )\n",
    "        \n",
    "    results = torch.zeros(size=(len(t_aco_diff),), device=device)\n",
    "    for i, t in enumerate(t_aco_diff):\n",
    "        best_cost, _ = aco.run(t)\n",
    "        results[i] = best_cost\n",
    "    return results\n",
    "    \n",
    "@torch.no_grad()\n",
    "def test(dataset, model, n_ants, t_aco):\n",
    "    _t_aco = [0] + t_aco\n",
    "    t_aco_diff = [_t_aco[i+1]-_t_aco[i] for i in range(len(_t_aco)-1)]\n",
    "    sum_results = torch.zeros(size=(len(t_aco_diff),), device=device)\n",
    "    start = time.time()\n",
    "    for price, weight in dataset:\n",
    "        results = infer_instance(model, price, weight, n_ants, t_aco_diff)\n",
    "        sum_results += results\n",
    "    end = time.time()\n",
    "    \n",
    "    return sum_results / len(dataset), end-start"
   ]
  },
  {
   "attachments": {},
   "cell_type": "markdown",
   "metadata": {},
   "source": [
    "### Test on MKP50"
   ]
  },
  {
   "attachments": {},
   "cell_type": "markdown",
   "metadata": {},
   "source": [
    "MetaACO"
   ]
  },
  {
   "cell_type": "code",
   "execution_count": 4,
   "metadata": {},
   "outputs": [
    {
     "name": "stdout",
     "output_type": "stream",
     "text": [
      "total duration:  748.6528759002686\n",
      "T=1, average obj. is 11.364100456237793.\n",
      "T=2, average obj. is 11.379688262939453.\n",
      "T=3, average obj. is 11.386866569519043.\n",
      "T=4, average obj. is 11.389361381530762.\n",
      "T=5, average obj. is 11.389361381530762.\n",
      "T=10, average obj. is 11.391247749328613.\n"
     ]
    }
   ],
   "source": [
    "n_ants = 20\n",
    "n_node = 50\n",
    "t_aco = [1, 2, 3, 4, 5, 10]\n",
    "test_list = load_test_dataset(n_node, device)\n",
    "net_mkp = TransformerModel().to(device)\n",
    "net_mkp.load_state_dict(torch.load(f'../pretrained/mkp/mkp{n_node}.pt', map_location=device))\n",
    "avg_aco_best, duration = test(test_list, net_mkp, n_ants, t_aco)\n",
    "print('total duration: ', duration)\n",
    "for i, t in enumerate(t_aco):\n",
    "    print(\"T={}, average obj. is {}.\".format(t, avg_aco_best[i]))    "
   ]
  },
  {
   "cell_type": "code",
   "execution_count": null,
   "metadata": {},
   "outputs": [
    {
     "name": "stdout",
     "output_type": "stream",
     "text": [
      "total duration:  678.2525622844696\n",
      "T=1, average obj. is 10.16207504272461.\n",
      "T=2, average obj. is 10.767912864685059.\n",
      "T=3, average obj. is 11.011064529418945.\n",
      "T=4, average obj. is 11.147146224975586.\n",
      "T=5, average obj. is 11.235312461853027.\n",
      "T=10, average obj. is 11.441211700439453.\n"
     ]
    }
   ],
   "source": [
    "n_ants = 20\n",
    "n_node = 50\n",
    "t_aco = [1, 2, 3, 4, 5, 10]\n",
    "test_list = load_test_dataset(n_node, device)\n",
    "avg_aco_best, duration = test(test_list, None, n_ants, t_aco)\n",
    "print('total duration: ', duration)\n",
    "for i, t in enumerate(t_aco):\n",
    "    print(\"T={}, average obj. is {}.\".format(t, avg_aco_best[i]))    "
   ]
  },
  {
   "attachments": {},
   "cell_type": "markdown",
   "metadata": {},
   "source": [
    "### Test on MKP100"
   ]
  },
  {
   "attachments": {},
   "cell_type": "markdown",
   "metadata": {},
   "source": [
    "MetaACO"
   ]
  },
  {
   "cell_type": "code",
   "execution_count": 5,
   "metadata": {},
   "outputs": [
    {
     "name": "stdout",
     "output_type": "stream",
     "text": [
      "total duration:  2580.5782539844513\n",
      "T=1, average obj. is 20.47673797607422.\n",
      "T=2, average obj. is 20.524988174438477.\n",
      "T=3, average obj. is 20.54534339904785.\n",
      "T=4, average obj. is 20.563329696655273.\n",
      "T=5, average obj. is 20.577308654785156.\n",
      "T=10, average obj. is 20.616466522216797.\n"
     ]
    }
   ],
   "source": [
    "n_ants = 20\n",
    "n_node = 100\n",
    "t_aco = [1, 2, 3, 4, 5, 10]\n",
    "test_list = load_test_dataset(n_node, device)\n",
    "net_mkp = TransformerModel().to(device)\n",
    "net_mkp.load_state_dict(torch.load(f'../pretrained/mkp/mkp{n_node}.pt', map_location=device))\n",
    "avg_aco_best, duration = test(test_list, net_mkp, n_ants, t_aco)\n",
    "print('total duration: ', duration)\n",
    "for i, t in enumerate(t_aco):\n",
    "    print(\"T={}, average obj. is {}.\".format(t, avg_aco_best[i]))    "
   ]
  },
  {
   "attachments": {},
   "cell_type": "markdown",
   "metadata": {},
   "source": [
    "ACO"
   ]
  },
  {
   "cell_type": "code",
   "execution_count": null,
   "metadata": {},
   "outputs": [
    {
     "name": "stdout",
     "output_type": "stream",
     "text": [
      "total duration:  2164.118937253952\n",
      "T=1, average obj. is 17.052200317382812.\n",
      "T=2, average obj. is 18.419252395629883.\n",
      "T=3, average obj. is 19.121368408203125.\n",
      "T=4, average obj. is 19.442798614501953.\n",
      "T=5, average obj. is 19.726795196533203.\n",
      "T=10, average obj. is 20.378917694091797.\n"
     ]
    }
   ],
   "source": [
    "n_ants = 20\n",
    "n_node = 100\n",
    "t_aco = [1, 2, 3, 4, 5, 10]\n",
    "test_list = load_test_dataset(n_node, device)\n",
    "avg_aco_best, duration = test(test_list, None, n_ants, t_aco)\n",
    "print('total duration: ', duration)\n",
    "for i, t in enumerate(t_aco):\n",
    "    print(\"T={}, average obj. is {}.\".format(t, avg_aco_best[i]))    "
   ]
  }
 ],
 "metadata": {
  "kernelspec": {
   "display_name": "base",
   "language": "python",
   "name": "python3"
  },
  "language_info": {
   "codemirror_mode": {
    "name": "ipython",
    "version": 3
   },
   "file_extension": ".py",
   "mimetype": "text/x-python",
   "name": "python",
   "nbconvert_exporter": "python",
   "pygments_lexer": "ipython3",
   "version": "3.8.16"
  },
  "orig_nbformat": 4,
  "vscode": {
   "interpreter": {
    "hash": "2f394aca7ca06fed1e6064aef884364492d7cdda3614a461e02e6407fc40ba69"
   }
  }
 },
 "nbformat": 4,
 "nbformat_minor": 2
}

{
 "cells": [
  {
   "cell_type": "code",
   "execution_count": 1,
   "metadata": {},
   "outputs": [],
   "source": [
    "import time\n",
    "import torch\n",
    "from torch.distributions import Categorical, kl\n",
    "from d2l.torch import Animator\n",
    "\n",
    "from net import Net\n",
    "from aco import ACO\n",
    "from utils import *\n",
    "\n",
    "torch.manual_seed(1234)\n",
    "\n",
    "EPS = 1e-10\n",
    "device = 'cpu'\n",
    "\n",
    "max_len = {\n",
    "    20: 2,\n",
    "    100: 4,\n",
    "    500: 9\n",
    "}"
   ]
  },
  {
   "cell_type": "code",
   "execution_count": 2,
   "metadata": {},
   "outputs": [],
   "source": [
    "def infer_instance(model, instance, k_sparse, n_ants, t_aco_diff):\n",
    "    pyg_data, distances, prizes = instance\n",
    "    if model:\n",
    "        model.eval()\n",
    "        heu_mat = model.reshape(pyg_data, model(pyg_data)) + EPS\n",
    "        aco = ACO(distances, prizes, max_len[len(prizes)], n_ants, heuristic=heu_mat, device=device)\n",
    "    else:\n",
    "        aco = ACO(distances, prizes, max_len[len(prizes)], n_ants, device=device)\n",
    "        aco.sparsify(k_sparse)\n",
    "        \n",
    "    results = torch.zeros(size=(len(t_aco_diff),), device=device)\n",
    "    for i, t in enumerate(t_aco_diff):\n",
    "        best_cost, _ = aco.run(t)\n",
    "        results[i] = best_cost\n",
    "    return results\n",
    "    \n",
    "@torch.no_grad()\n",
    "def test(dataset, model, n_ants, k_sparse, t_aco):\n",
    "    _t_aco = [0] + t_aco\n",
    "    t_aco_diff = [_t_aco[i+1]-_t_aco[i] for i in range(len(_t_aco)-1)]\n",
    "    sum_results = torch.zeros(size=(len(t_aco_diff),), device=device)\n",
    "    start = time.time()\n",
    "    for instance in dataset:\n",
    "        results = infer_instance(model, instance, k_sparse, n_ants, t_aco_diff)\n",
    "        sum_results += results\n",
    "    end = time.time()\n",
    "    \n",
    "    return sum_results / len(dataset), end-start"
   ]
  },
  {
   "attachments": {},
   "cell_type": "markdown",
   "metadata": {},
   "source": [
    "### Test on OP20"
   ]
  },
  {
   "attachments": {},
   "cell_type": "markdown",
   "metadata": {},
   "source": [
    "MetaACO"
   ]
  },
  {
   "cell_type": "code",
   "execution_count": 3,
   "metadata": {},
   "outputs": [
    {
     "name": "stdout",
     "output_type": "stream",
     "text": [
      "total duration:  467.0962164402008\n",
      "T=1, average obj. is 5.132494926452637.\n",
      "T=10, average obj. is 5.285694599151611.\n",
      "T=20, average obj. is 5.326320171356201.\n",
      "T=30, average obj. is 5.359354019165039.\n",
      "T=40, average obj. is 5.36385440826416.\n",
      "T=50, average obj. is 5.368360996246338.\n",
      "T=100, average obj. is 5.37666130065918.\n"
     ]
    }
   ],
   "source": [
    "n_ants = 20\n",
    "n_node = 20\n",
    "k_sparse = 10\n",
    "t_aco = [1, 10, 20, 30, 40, 50, 100]\n",
    "test_list = load_test_dataset(n_node, k_sparse, device)\n",
    "net = Net().to(device)\n",
    "net.load_state_dict(torch.load(f'../pretrained/op/op{n_node}.pt', map_location=device))\n",
    "avg_aco_best, duration = test(test_list, net, n_ants, k_sparse, t_aco)\n",
    "print('total duration: ', duration)\n",
    "for i, t in enumerate(t_aco):\n",
    "    print(\"T={}, average obj. is {}.\".format(t, avg_aco_best[i]))    "
   ]
  },
  {
   "cell_type": "code",
   "execution_count": 9,
   "metadata": {},
   "outputs": [
    {
     "name": "stdout",
     "output_type": "stream",
     "text": [
      "total duration:  396.59278535842896\n",
      "T=1, average obj. is 4.329096794128418.\n",
      "T=10, average obj. is 4.939450263977051.\n",
      "T=20, average obj. is 5.068620681762695.\n",
      "T=30, average obj. is 5.116286754608154.\n",
      "T=40, average obj. is 5.151432991027832.\n",
      "T=50, average obj. is 5.2041521072387695.\n",
      "T=100, average obj. is 5.2815937995910645.\n"
     ]
    }
   ],
   "source": [
    "n_ants = 20\n",
    "n_node = 20\n",
    "k_sparse = 10\n",
    "t_aco = [1, 10, 20, 30, 40, 50, 100]\n",
    "test_list = load_test_dataset(n_node, k_sparse, device)\n",
    "avg_aco_best, duration = test(test_list, None, n_ants, k_sparse, t_aco)\n",
    "print('total duration: ', duration)\n",
    "for i, t in enumerate(t_aco):\n",
    "    print(\"T={}, average obj. is {}.\".format(t, avg_aco_best[i]))    "
   ]
  }
 ],
 "metadata": {
  "kernelspec": {
   "display_name": "base",
   "language": "python",
   "name": "python3"
  },
  "language_info": {
   "codemirror_mode": {
    "name": "ipython",
    "version": 3
   },
   "file_extension": ".py",
   "mimetype": "text/x-python",
   "name": "python",
   "nbconvert_exporter": "python",
   "pygments_lexer": "ipython3",
   "version": "3.8.16"
  },
  "orig_nbformat": 4,
  "vscode": {
   "interpreter": {
    "hash": "2f394aca7ca06fed1e6064aef884364492d7cdda3614a461e02e6407fc40ba69"
   }
  }
 },
 "nbformat": 4,
 "nbformat_minor": 2
}

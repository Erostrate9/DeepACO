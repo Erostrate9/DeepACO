{
 "cells": [
  {
   "cell_type": "code",
   "execution_count": 2,
   "metadata": {},
   "outputs": [],
   "source": [
    "\n",
    "import time\n",
    "import torch\n",
    "from torch.distributions import Categorical, kl\n",
    "from d2l.torch import Animator\n",
    "from tqdm.autonotebook import tqdm\n",
    "\n",
    "from net import Net\n",
    "from aco import ACO\n",
    "from utils import *\n",
    "\n",
    "\n",
    "EPS = 1e-10\n",
    "device = 'cpu'\n",
    "\n",
    "max_len = {\n",
    "    100: 4,\n",
    "    200: 5,\n",
    "    300: 6,\n",
    "}"
   ]
  },
  {
   "cell_type": "code",
   "execution_count": 3,
   "metadata": {},
   "outputs": [],
   "source": [
    "def infer_instance(model, instance, k_sparse, n_ants, t_aco_diff):\n",
    "    pyg_data, distances, prizes = instance\n",
    "    if model:\n",
    "        model.eval()\n",
    "        heu_mat = model.reshape(pyg_data, model(pyg_data)) + EPS\n",
    "        aco = ACO(distances, prizes, max_len[len(prizes)], n_ants, heuristic=heu_mat, device=device)\n",
    "    else:\n",
    "        aco = ACO(distances, prizes, max_len[len(prizes)], n_ants, device=device, k_sparse=k_sparse)\n",
    "        \n",
    "    results = torch.zeros(size=(len(t_aco_diff),), device=device)\n",
    "    for i, t in enumerate(t_aco_diff):\n",
    "        best_cost, _ = aco.run(t)\n",
    "        results[i] = best_cost\n",
    "    return results\n",
    "    \n",
    "@torch.no_grad()\n",
    "def test(dataset, model, n_ants, k_sparse, t_aco):\n",
    "    _t_aco = [0] + t_aco\n",
    "    t_aco_diff = [_t_aco[i+1]-_t_aco[i] for i in range(len(_t_aco)-1)]\n",
    "    sum_results = torch.zeros(size=(len(t_aco_diff),), device=device)\n",
    "    start = time.time()\n",
    "    for instance in tqdm(dataset):\n",
    "        results = infer_instance(model, instance, k_sparse, n_ants, t_aco_diff)\n",
    "        sum_results += results\n",
    "    end = time.time()\n",
    "    \n",
    "    return sum_results / len(dataset), end-start"
   ]
  },
  {
   "attachments": {},
   "cell_type": "markdown",
   "metadata": {},
   "source": [
    "### Test on OP100"
   ]
  },
  {
   "attachments": {},
   "cell_type": "markdown",
   "metadata": {},
   "source": [
    "MetaACO"
   ]
  },
  {
   "cell_type": "code",
   "execution_count": 8,
   "metadata": {},
   "outputs": [
    {
     "data": {
      "application/vnd.jupyter.widget-view+json": {
       "model_id": "91585456358445a3888f9c0312cce217",
       "version_major": 2,
       "version_minor": 0
      },
      "text/plain": [
       "  0%|          | 0/100 [00:00<?, ?it/s]"
      ]
     },
     "metadata": {},
     "output_type": "display_data"
    },
    {
     "name": "stdout",
     "output_type": "stream",
     "text": [
      "total duration:  1385.5994687080383\n",
      "T=1, average obj. is 28.945852279663086.\n",
      "T=10, average obj. is 30.597496032714844.\n",
      "T=20, average obj. is 30.843215942382812.\n",
      "T=30, average obj. is 30.915943145751953.\n",
      "T=40, average obj. is 30.966629028320312.\n",
      "T=50, average obj. is 31.004030227661133.\n",
      "T=100, average obj. is 31.07598304748535.\n"
     ]
    }
   ],
   "source": [
    "n_ants = 20\n",
    "n_node = 100\n",
    "k_sparse = 20\n",
    "t_aco = [1, 10, 20, 30, 40, 50, 100]\n",
    "test_list = load_test_dataset(n_node, k_sparse, device)\n",
    "net = Net().to(device)\n",
    "net.load_state_dict(torch.load(f'../pretrained/op/op{n_node}.pt', map_location=device))\n",
    "avg_aco_best, duration = test(test_list, net, n_ants, k_sparse, t_aco)\n",
    "print('total duration: ', duration)\n",
    "for i, t in enumerate(t_aco):\n",
    "    print(\"T={}, average obj. is {}.\".format(t, avg_aco_best[i]))    "
   ]
  },
  {
   "attachments": {},
   "cell_type": "markdown",
   "metadata": {},
   "source": [
    "ACO"
   ]
  },
  {
   "cell_type": "code",
   "execution_count": 13,
   "metadata": {},
   "outputs": [
    {
     "data": {
      "application/vnd.jupyter.widget-view+json": {
       "model_id": "f44b754ebb574e219b735d4634289d66",
       "version_major": 2,
       "version_minor": 0
      },
      "text/plain": [
       "  0%|          | 0/100 [00:00<?, ?it/s]"
      ]
     },
     "metadata": {},
     "output_type": "display_data"
    },
    {
     "name": "stdout",
     "output_type": "stream",
     "text": [
      "total duration:  1264.759536743164\n",
      "T=1, average obj. is 16.909893035888672.\n",
      "T=10, average obj. is 21.29694175720215.\n",
      "T=20, average obj. is 23.746780395507812.\n",
      "T=30, average obj. is 25.483396530151367.\n",
      "T=40, average obj. is 26.736047744750977.\n",
      "T=50, average obj. is 27.462875366210938.\n",
      "T=100, average obj. is 29.506956100463867.\n"
     ]
    }
   ],
   "source": [
    "n_ants = 20\n",
    "n_node = 100\n",
    "k_sparse = 20\n",
    "t_aco = [1, 10, 20, 30, 40, 50, 100]\n",
    "test_list = load_test_dataset(n_node, k_sparse, device)\n",
    "avg_aco_best, duration = test(test_list, None, n_ants, k_sparse, t_aco)\n",
    "print('total duration: ', duration)\n",
    "for i, t in enumerate(t_aco):\n",
    "    print(\"T={}, average obj. is {}.\".format(t, avg_aco_best[i]))    "
   ]
  },
  {
   "attachments": {},
   "cell_type": "markdown",
   "metadata": {},
   "source": [
    "### Test on OP200"
   ]
  },
  {
   "cell_type": "code",
   "execution_count": 14,
   "metadata": {},
   "outputs": [
    {
     "data": {
      "application/vnd.jupyter.widget-view+json": {
       "model_id": "ffaa9cb005274e8aa269b48ba7356a97",
       "version_major": 2,
       "version_minor": 0
      },
      "text/plain": [
       "  0%|          | 0/100 [00:00<?, ?it/s]"
      ]
     },
     "metadata": {},
     "output_type": "display_data"
    },
    {
     "name": "stdout",
     "output_type": "stream",
     "text": [
      "total duration:  2543.6038591861725\n",
      "T=1, average obj. is 47.74967956542969.\n",
      "T=10, average obj. is 52.0900993347168.\n",
      "T=20, average obj. is 52.94816970825195.\n",
      "T=30, average obj. is 53.5031852722168.\n",
      "T=40, average obj. is 53.72344207763672.\n",
      "T=50, average obj. is 53.83295440673828.\n",
      "T=100, average obj. is 54.17605972290039.\n"
     ]
    }
   ],
   "source": [
    "n_ants = 20\n",
    "n_node = 200\n",
    "k_sparse = 50\n",
    "t_aco = [1, 10, 20, 30, 40, 50, 100]\n",
    "test_list = load_test_dataset(n_node, k_sparse, device)\n",
    "net = Net().to(device)\n",
    "net.load_state_dict(torch.load(f'../pretrained/op/op{n_node}.pt', map_location=device))\n",
    "avg_aco_best, duration = test(test_list, net, n_ants, k_sparse, t_aco)\n",
    "print('total duration: ', duration)\n",
    "for i, t in enumerate(t_aco):\n",
    "    print(\"T={}, average obj. is {}.\".format(t, avg_aco_best[i]))    "
   ]
  },
  {
   "cell_type": "code",
   "execution_count": 15,
   "metadata": {},
   "outputs": [
    {
     "data": {
      "application/vnd.jupyter.widget-view+json": {
       "model_id": "ac545f29699e41769384f516606233ae",
       "version_major": 2,
       "version_minor": 0
      },
      "text/plain": [
       "  0%|          | 0/100 [00:00<?, ?it/s]"
      ]
     },
     "metadata": {},
     "output_type": "display_data"
    },
    {
     "name": "stdout",
     "output_type": "stream",
     "text": [
      "total duration:  2020.297049999237\n",
      "T=1, average obj. is 21.552003860473633.\n",
      "T=10, average obj. is 26.12917709350586.\n",
      "T=20, average obj. is 31.373525619506836.\n",
      "T=30, average obj. is 36.82734298706055.\n",
      "T=40, average obj. is 41.39125061035156.\n",
      "T=50, average obj. is 44.494476318359375.\n",
      "T=100, average obj. is 50.48700714111328.\n"
     ]
    }
   ],
   "source": [
    "n_ants = 20\n",
    "n_node = 200\n",
    "k_sparse = 50\n",
    "t_aco = [1, 10, 20, 30, 40, 50, 100]\n",
    "test_list = load_test_dataset(n_node, k_sparse, device)\n",
    "avg_aco_best, duration = test(test_list, None, n_ants, k_sparse, t_aco)\n",
    "print('total duration: ', duration)\n",
    "for i, t in enumerate(t_aco):\n",
    "    print(\"T={}, average obj. is {}.\".format(t, avg_aco_best[i]))    "
   ]
  }
 ],
 "metadata": {
  "kernelspec": {
   "display_name": "base",
   "language": "python",
   "name": "python3"
  },
  "language_info": {
   "codemirror_mode": {
    "name": "ipython",
    "version": 3
   },
   "file_extension": ".py",
   "mimetype": "text/x-python",
   "name": "python",
   "nbconvert_exporter": "python",
   "pygments_lexer": "ipython3",
   "version": "3.8.16"
  },
  "orig_nbformat": 4,
  "vscode": {
   "interpreter": {
    "hash": "2f394aca7ca06fed1e6064aef884364492d7cdda3614a461e02e6407fc40ba69"
   }
  }
 },
 "nbformat": 4,
 "nbformat_minor": 2
}

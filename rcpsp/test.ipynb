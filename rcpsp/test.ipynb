{
 "cells": [
  {
   "cell_type": "code",
   "execution_count": 1,
   "metadata": {},
   "outputs": [],
   "source": [
    "import time\n",
    "import torch\n",
    "\n",
    "from rcpsp_inst import load_dataset\n",
    "from net import Net\n",
    "from aco import ACO_RCPSP\n",
    "\n",
    "lr = 1e-3\n",
    "EPS = 1e-10\n",
    "ALPHA = 0.05\n",
    "T=20\n",
    "device = 'cpu'"
   ]
  },
  {
   "cell_type": "code",
   "execution_count": 2,
   "metadata": {},
   "outputs": [],
   "source": [
    "@torch.no_grad()\n",
    "def infer_instance(model, rcpsp, n_ants, t_aco_diff):\n",
    "    if model:\n",
    "        model.eval()\n",
    "        pyg_data = rcpsp.to_pyg_data()\n",
    "        phe_vec, heu_vec = model(pyg_data, require_phe=True, require_heu=True)\n",
    "        phe_mat, heu_mat = model.reshape(pyg_data, phe_vec) + EPS, model.reshape(pyg_data, heu_vec) + EPS\n",
    "    \n",
    "        aco = ACO_RCPSP(\n",
    "            rcpsp,\n",
    "            n_ants=n_ants,\n",
    "            pheromone=phe_mat,\n",
    "            heuristic=heu_mat,\n",
    "            device=device\n",
    "        )\n",
    "    \n",
    "    else:\n",
    "        aco = ACO_RCPSP(\n",
    "            rcpsp,\n",
    "            n_ants=n_ants,\n",
    "            device=device\n",
    "        )\n",
    "        \n",
    "    results = torch.zeros(size=(len(t_aco_diff),), device=device)\n",
    "    for i, t in enumerate(t_aco_diff):\n",
    "        best_cost = aco.run(t).cost\n",
    "        results[i] = best_cost\n",
    "    return results\n",
    "        \n",
    "    \n",
    "@torch.no_grad()\n",
    "def test(dataset, model, n_ants, t_aco):\n",
    "    _t_aco = [0] + t_aco\n",
    "    t_aco_diff = [_t_aco[i+1]-_t_aco[i] for i in range(len(_t_aco)-1)]\n",
    "    sum_results = torch.zeros(size=(len(t_aco_diff),), device=device)\n",
    "    start = time.time()\n",
    "    for instance in dataset:\n",
    "        results = infer_instance(model, instance, n_ants, t_aco_diff)\n",
    "        sum_results += results\n",
    "    end = time.time()\n",
    "    \n",
    "    return sum_results / len(dataset), end-start"
   ]
  },
  {
   "attachments": {},
   "cell_type": "markdown",
   "metadata": {},
   "source": [
    "### Test on j30"
   ]
  },
  {
   "cell_type": "code",
   "execution_count": 3,
   "metadata": {},
   "outputs": [],
   "source": [
    "n_ants = 20\n",
    "n_node = 30\n",
    "t_aco = [1, 10, 20, 30, 40, 50, 100]\n",
    "_, test_list = load_dataset(f\"../data/rcpsp/j{n_node}rcp\")"
   ]
  },
  {
   "cell_type": "code",
   "execution_count": 4,
   "metadata": {},
   "outputs": [
    {
     "name": "stdout",
     "output_type": "stream",
     "text": [
      "total duration:  206.4487235546112\n",
      "T=1, average cost is 61.95000076293945.\n",
      "T=10, average cost is 59.189998626708984.\n",
      "T=20, average cost is 58.54999923706055.\n",
      "T=30, average cost is 58.130001068115234.\n",
      "T=40, average cost is 57.86000061035156.\n",
      "T=50, average cost is 57.779998779296875.\n",
      "T=100, average cost is 57.41999816894531.\n"
     ]
    }
   ],
   "source": [
    "# MetaACO\n",
    "net_tsp = Net().to(device)\n",
    "net_tsp.load_state_dict(torch.load(f'../pretrained/rcpsp/rcpsp{n_node}-5.pt', map_location=device))\n",
    "avg_aco_best, duration = test(test_list, net_tsp, n_ants, t_aco)\n",
    "print('total duration: ', duration)\n",
    "for i, t in enumerate(t_aco):\n",
    "    print(\"T={}, average cost is {}.\".format(t, avg_aco_best[i]))    "
   ]
  },
  {
   "cell_type": "code",
   "execution_count": 5,
   "metadata": {},
   "outputs": [
    {
     "name": "stdout",
     "output_type": "stream",
     "text": [
      "total duration:  202.41569781303406\n",
      "T=1, average cost is 63.79999923706055.\n",
      "T=10, average cost is 60.650001525878906.\n",
      "T=20, average cost is 60.0.\n",
      "T=30, average cost is 59.720001220703125.\n",
      "T=40, average cost is 59.599998474121094.\n",
      "T=50, average cost is 59.529998779296875.\n",
      "T=100, average cost is 59.43000030517578.\n"
     ]
    }
   ],
   "source": [
    "# ACO\n",
    "avg_aco_best, duration = test(test_list, None, n_ants, t_aco)\n",
    "print('total duration: ', duration)\n",
    "for i, t in enumerate(t_aco):\n",
    "    print(\"T={}, average cost is {}.\".format(t, avg_aco_best[i]))"
   ]
  },
  {
   "attachments": {},
   "cell_type": "markdown",
   "metadata": {},
   "source": [
    "### Test on j60"
   ]
  },
  {
   "cell_type": "code",
   "execution_count": 6,
   "metadata": {},
   "outputs": [],
   "source": [
    "n_ants = 20\n",
    "n_node = 60\n",
    "t_aco = [1, 10, 20, 30, 40, 50, 100]\n",
    "_, test_list = load_dataset(f\"../data/rcpsp/j{n_node}rcp\")"
   ]
  },
  {
   "cell_type": "code",
   "execution_count": 7,
   "metadata": {},
   "outputs": [
    {
     "name": "stdout",
     "output_type": "stream",
     "text": [
      "total duration:  395.4517147541046\n",
      "T=1, average cost is 99.5999984741211.\n",
      "T=10, average cost is 92.94999694824219.\n",
      "T=20, average cost is 91.80999755859375.\n",
      "T=30, average cost is 90.83000183105469.\n",
      "T=40, average cost is 90.37000274658203.\n",
      "T=50, average cost is 89.70999908447266.\n",
      "T=100, average cost is 88.61000061035156.\n"
     ]
    }
   ],
   "source": [
    "# MetaACO\n",
    "net_tsp = Net().to(device)\n",
    "net_tsp.load_state_dict(torch.load(f'../pretrained/rcpsp/rcpsp{n_node}-5.pt', map_location=device))\n",
    "avg_aco_best, duration = test(test_list, net_tsp, n_ants, t_aco)\n",
    "print('total duration: ', duration)\n",
    "for i, t in enumerate(t_aco):\n",
    "    print(\"T={}, average cost is {}.\".format(t, avg_aco_best[i]))"
   ]
  },
  {
   "cell_type": "code",
   "execution_count": 8,
   "metadata": {},
   "outputs": [
    {
     "name": "stdout",
     "output_type": "stream",
     "text": [
      "total duration:  395.55902886390686\n",
      "T=1, average cost is 99.68000030517578.\n",
      "T=10, average cost is 93.83999633789062.\n",
      "T=20, average cost is 92.81999969482422.\n",
      "T=30, average cost is 92.41999816894531.\n",
      "T=40, average cost is 92.26000213623047.\n",
      "T=50, average cost is 92.13999938964844.\n",
      "T=100, average cost is 92.05999755859375.\n"
     ]
    }
   ],
   "source": [
    "# ACO\n",
    "avg_aco_best, duration = test(test_list, None, n_ants, t_aco)\n",
    "print('total duration: ', duration)\n",
    "for i, t in enumerate(t_aco):\n",
    "    print(\"T={}, average cost is {}.\".format(t, avg_aco_best[i]))"
   ]
  },
  {
   "attachments": {},
   "cell_type": "markdown",
   "metadata": {},
   "source": [
    "### Test on j120"
   ]
  },
  {
   "cell_type": "code",
   "execution_count": 9,
   "metadata": {},
   "outputs": [],
   "source": [
    "n_ants = 20\n",
    "n_node = 120\n",
    "t_aco = [1, 10, 20, 30, 40, 50, 100]\n",
    "_, test_list = load_dataset(f\"../data/rcpsp/j{n_node}rcp\")"
   ]
  },
  {
   "cell_type": "code",
   "execution_count": 10,
   "metadata": {},
   "outputs": [
    {
     "name": "stdout",
     "output_type": "stream",
     "text": [
      "total duration:  798.9243993759155\n",
      "T=1, average cost is 196.2100067138672.\n",
      "T=10, average cost is 186.63999938964844.\n",
      "T=20, average cost is 185.22999572753906.\n",
      "T=30, average cost is 184.02000427246094.\n",
      "T=40, average cost is 183.32000732421875.\n",
      "T=50, average cost is 182.69000244140625.\n",
      "T=100, average cost is 180.69000244140625.\n"
     ]
    }
   ],
   "source": [
    "# MetaACO\n",
    "net_tsp = Net().to(device)\n",
    "net_tsp.load_state_dict(torch.load(f'../pretrained/rcpsp/rcpsp{n_node}-5.pt', map_location=device))\n",
    "avg_aco_best, duration = test(test_list, net_tsp, n_ants, t_aco)\n",
    "print('total duration: ', duration)\n",
    "for i, t in enumerate(t_aco):\n",
    "    print(\"T={}, average cost is {}.\".format(t, avg_aco_best[i]))    "
   ]
  },
  {
   "cell_type": "code",
   "execution_count": 11,
   "metadata": {},
   "outputs": [
    {
     "name": "stdout",
     "output_type": "stream",
     "text": [
      "total duration:  795.6401858329773\n",
      "T=1, average cost is 194.83999633789062.\n",
      "T=10, average cost is 186.25.\n",
      "T=20, average cost is 184.5.\n",
      "T=30, average cost is 183.8000030517578.\n",
      "T=40, average cost is 183.44000244140625.\n",
      "T=50, average cost is 183.30999755859375.\n",
      "T=100, average cost is 182.97999572753906.\n"
     ]
    }
   ],
   "source": [
    "# ACO\n",
    "avg_aco_best, duration = test(test_list, None, n_ants, t_aco)\n",
    "print('total duration: ', duration)\n",
    "for i, t in enumerate(t_aco):\n",
    "    print(\"T={}, average cost is {}.\".format(t, avg_aco_best[i]))"
   ]
  },
  {
   "cell_type": "code",
   "execution_count": null,
   "metadata": {},
   "outputs": [],
   "source": []
  }
 ],
 "metadata": {
  "kernelspec": {
   "display_name": "metaaco",
   "language": "python",
   "name": "python3"
  },
  "language_info": {
   "codemirror_mode": {
    "name": "ipython",
    "version": 3
   },
   "file_extension": ".py",
   "mimetype": "text/x-python",
   "name": "python",
   "nbconvert_exporter": "python",
   "pygments_lexer": "ipython3",
   "version": "3.10.0"
  },
  "orig_nbformat": 4,
  "vscode": {
   "interpreter": {
    "hash": "7ce9c71e095764e2fe3c29e4c23f4bf6f7fcf057faa8b7d05072822ac18886c7"
   }
  }
 },
 "nbformat": 4,
 "nbformat_minor": 2
}

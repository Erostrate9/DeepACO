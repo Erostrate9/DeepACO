{
 "cells": [
  {
   "cell_type": "code",
   "execution_count": 1,
   "metadata": {},
   "outputs": [],
   "source": [
    "import time\n",
    "import torch\n",
    "\n",
    "from rcpsp_inst import load_dataset\n",
    "from net import Net\n",
    "from aco import ACO_RCPSP\n",
    "\n",
    "lr = 1e-3\n",
    "EPS = 1e-10\n",
    "ALPHA = 0.05\n",
    "T=5\n",
    "device = 'cpu'"
   ]
  },
  {
   "cell_type": "code",
   "execution_count": 2,
   "metadata": {},
   "outputs": [],
   "source": [
    "@torch.no_grad()\n",
    "def infer_instance(model, rcpsp, n_ants, t_aco_diff):\n",
    "    if model:\n",
    "        model.eval()\n",
    "        pyg_data = rcpsp.to_pyg_data()\n",
    "        phe_vec, heu_vec = model(pyg_data, require_phe=True, require_heu=True)\n",
    "        phe_mat, heu_mat = model.reshape(pyg_data, phe_vec) + EPS, model.reshape(pyg_data, heu_vec) + EPS\n",
    "    \n",
    "        aco = ACO_RCPSP(\n",
    "            rcpsp,\n",
    "            n_ants=n_ants,\n",
    "            pheromone=phe_mat,\n",
    "            heuristic=heu_mat,\n",
    "            device=device\n",
    "        )\n",
    "    \n",
    "    else:\n",
    "        aco = ACO_RCPSP(\n",
    "            rcpsp,\n",
    "            n_ants=n_ants,\n",
    "            device=device\n",
    "        )\n",
    "        \n",
    "    results = torch.zeros(size=(len(t_aco_diff),), device=device)\n",
    "    for i, t in enumerate(t_aco_diff):\n",
    "        best_cost = aco.run(t).cost\n",
    "        results[i] = best_cost\n",
    "    return results\n",
    "        \n",
    "    \n",
    "@torch.no_grad()\n",
    "def test(dataset, model, n_ants, t_aco):\n",
    "    _t_aco = [0] + t_aco\n",
    "    t_aco_diff = [_t_aco[i+1]-_t_aco[i] for i in range(len(_t_aco)-1)]\n",
    "    sum_results = torch.zeros(size=(len(t_aco_diff),), device=device)\n",
    "    start = time.time()\n",
    "    for instance in dataset:\n",
    "        results = infer_instance(model, instance, n_ants, t_aco_diff)\n",
    "        sum_results += results\n",
    "    end = time.time()\n",
    "    \n",
    "    return sum_results / len(dataset), end-start"
   ]
  },
  {
   "attachments": {},
   "cell_type": "markdown",
   "metadata": {},
   "source": [
    "### Test on j30"
   ]
  },
  {
   "cell_type": "code",
   "execution_count": 3,
   "metadata": {},
   "outputs": [],
   "source": [
    "n_ants = 5\n",
    "n_node = 30\n",
    "t_aco = [1, 10, 20, 30, 40, 50, 100]\n",
    "_, test_list = load_dataset(\"../data/rcpsp/j30rcp\")\n",
    "# test_list = test_list[:50]"
   ]
  },
  {
   "attachments": {},
   "cell_type": "markdown",
   "metadata": {},
   "source": [
    "MetaACO"
   ]
  },
  {
   "cell_type": "code",
   "execution_count": 4,
   "metadata": {},
   "outputs": [
    {
     "name": "stdout",
     "output_type": "stream",
     "text": [
      "total duration:  80.80995345115662\n",
      "T=1, average cost is 65.87000274658203.\n",
      "T=10, average cost is 60.790000915527344.\n",
      "T=20, average cost is 59.970001220703125.\n",
      "T=30, average cost is 59.52000045776367.\n",
      "T=40, average cost is 59.13999938964844.\n",
      "T=50, average cost is 58.869998931884766.\n",
      "T=100, average cost is 58.310001373291016.\n"
     ]
    }
   ],
   "source": [
    "net_tsp = Net().to(device)\n",
    "net_tsp.load_state_dict(torch.load(f'../pretrained/rcpsp/rcpsp{n_node}-4.pt', map_location=device))\n",
    "avg_aco_best, duration = test(test_list, net_tsp, n_ants, t_aco)\n",
    "print('total duration: ', duration)\n",
    "for i, t in enumerate(t_aco):\n",
    "    print(\"T={}, average cost is {}.\".format(t, avg_aco_best[i]))    "
   ]
  },
  {
   "attachments": {},
   "cell_type": "markdown",
   "metadata": {},
   "source": [
    "ACO"
   ]
  },
  {
   "cell_type": "code",
   "execution_count": 5,
   "metadata": {},
   "outputs": [
    {
     "name": "stdout",
     "output_type": "stream",
     "text": [
      "total duration:  83.8741614818573\n",
      "T=1, average cost is 67.87999725341797.\n",
      "T=10, average cost is 62.43000030517578.\n",
      "T=20, average cost is 61.459999084472656.\n",
      "T=30, average cost is 61.0.\n",
      "T=40, average cost is 60.66999816894531.\n",
      "T=50, average cost is 60.619998931884766.\n",
      "T=100, average cost is 60.369998931884766.\n"
     ]
    }
   ],
   "source": [
    "avg_aco_best, duration = test(test_list, None, n_ants, t_aco)\n",
    "print('total duration: ', duration)\n",
    "for i, t in enumerate(t_aco):\n",
    "    print(\"T={}, average cost is {}.\".format(t, avg_aco_best[i]))"
   ]
  },
  {
   "cell_type": "code",
   "execution_count": null,
   "metadata": {},
   "outputs": [],
   "source": []
  }
 ],
 "metadata": {
  "kernelspec": {
   "display_name": "metaaco",
   "language": "python",
   "name": "python3"
  },
  "language_info": {
   "codemirror_mode": {
    "name": "ipython",
    "version": 3
   },
   "file_extension": ".py",
   "mimetype": "text/x-python",
   "name": "python",
   "nbconvert_exporter": "python",
   "pygments_lexer": "ipython3",
   "version": "3.10.0"
  },
  "orig_nbformat": 4,
  "vscode": {
   "interpreter": {
    "hash": "7ce9c71e095764e2fe3c29e4c23f4bf6f7fcf057faa8b7d05072822ac18886c7"
   }
  }
 },
 "nbformat": 4,
 "nbformat_minor": 2
}

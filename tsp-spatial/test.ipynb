{
 "cells": [
  {
   "cell_type": "code",
   "execution_count": 1,
   "metadata": {},
   "outputs": [],
   "source": [
    "import sys\n",
    "sys.path.insert(0, '../')\n",
    "\n",
    "import time\n",
    "import torch\n",
    "from torch.distributions import Categorical, kl\n",
    "from d2l.torch import Animator\n",
    "\n",
    "from aco import ACO\n",
    "from utils import gen_pyg_data, load_test_dataset\n",
    "\n",
    "from tsp.net import Net as Singlehead_net\n",
    "from tsp.aco import ACO as Singlehead_ACO\n",
    "from net import Net as Multihead_net\n",
    "from aco import ACO as Multihead_ACO\n",
    "\n",
    "torch.manual_seed(1234)\n",
    "\n",
    "n_heads = 4\n",
    "EPS = 1e-10\n",
    "device = 'cuda:0'"
   ]
  },
  {
   "cell_type": "code",
   "execution_count": 2,
   "metadata": {},
   "outputs": [],
   "source": [
    "@torch.no_grad()\n",
    "def infer_instance(model, pyg_data, distances, n_ants, t_aco_diff, multi):\n",
    "    model.eval()\n",
    "    if not multi:\n",
    "        heu_vec = model(pyg_data)\n",
    "        heu_mat = model.reshape(pyg_data, heu_vec) + EPS\n",
    "        aco = Singlehead_ACO(\n",
    "            n_ants=n_ants,\n",
    "            heuristic=heu_mat,\n",
    "            distances=distances,\n",
    "            device=device\n",
    "        )\n",
    "    else:\n",
    "        heu_vec_list = model(pyg_data)\n",
    "        heu_mat_list = [model.reshape(pyg_data, heu_vec_list[i]) + EPS for i in range(n_heads)]\n",
    "        aco = Multihead_ACO(\n",
    "            n_ants=n_ants,\n",
    "            heuristic=heu_mat_list,\n",
    "            distances=distances,\n",
    "            device=device\n",
    "        )\n",
    "    results = torch.zeros(size=(len(t_aco_diff),), device=device)\n",
    "    for i, t in enumerate(t_aco_diff):\n",
    "        best_cost = aco.run(t)\n",
    "        results[i] = best_cost\n",
    "    return results\n",
    "        \n",
    "    \n",
    "@torch.no_grad()\n",
    "def test(dataset, model, n_ants, t_aco, multi):\n",
    "    _t_aco = [0] + t_aco\n",
    "    t_aco_diff = [_t_aco[i+1]-_t_aco[i] for i in range(len(_t_aco)-1)]\n",
    "    sum_results = torch.zeros(size=(len(t_aco_diff),), device=device)\n",
    "    start = time.time()\n",
    "    for pyg_data, distances in dataset:\n",
    "        results = infer_instance(model, pyg_data, distances, n_ants, t_aco_diff, multi)\n",
    "        sum_results += results\n",
    "    end = time.time()\n",
    "    \n",
    "    return sum_results / len(dataset), end-start"
   ]
  },
  {
   "attachments": {},
   "cell_type": "markdown",
   "metadata": {},
   "source": [
    "### Test on TSP20"
   ]
  },
  {
   "attachments": {},
   "cell_type": "markdown",
   "metadata": {},
   "source": [
    "multihead"
   ]
  },
  {
   "cell_type": "code",
   "execution_count": 3,
   "metadata": {},
   "outputs": [
    {
     "name": "stdout",
     "output_type": "stream",
     "text": [
      "total duration:  801.2649049758911\n",
      "T=1, average cost is 3.9010469913482666.\n",
      "T=50, average cost is 3.808290719985962.\n",
      "T=100, average cost is 3.804656982421875.\n",
      "T=150, average cost is 3.804598093032837.\n",
      "T=200, average cost is 3.8034627437591553.\n",
      "T=250, average cost is 3.8034627437591553.\n"
     ]
    }
   ],
   "source": [
    "n_ants = 20\n",
    "n_node = 20\n",
    "k_sparse = 10\n",
    "t_aco = [1, 50, 100, 150, 200, 250]\n",
    "test_list = load_test_dataset(n_node, k_sparse, device)\n",
    "net_tsp = Multihead_net(n_heads).to(device)\n",
    "net_tsp.load_state_dict(torch.load(f'../pretrained/tsp-spatial/tsp{n_node}.pt', map_location=device))\n",
    "avg_aco_best, duration = test(test_list, net_tsp, n_ants, t_aco, True)\n",
    "print('total duration: ', duration)\n",
    "for i, t in enumerate(t_aco):\n",
    "    print(\"T={}, average cost is {}.\".format(t, avg_aco_best[i]))    "
   ]
  },
  {
   "attachments": {},
   "cell_type": "markdown",
   "metadata": {},
   "source": [
    "singlehead"
   ]
  },
  {
   "cell_type": "code",
   "execution_count": 7,
   "metadata": {},
   "outputs": [
    {
     "name": "stdout",
     "output_type": "stream",
     "text": [
      "total duration:  341.8486297130585\n",
      "T=1, average cost is 3.9362034797668457.\n",
      "T=50, average cost is 3.8097853660583496.\n",
      "T=100, average cost is 3.807478904724121.\n",
      "T=150, average cost is 3.8070151805877686.\n",
      "T=200, average cost is 3.8065853118896484.\n",
      "T=250, average cost is 3.8063125610351562.\n"
     ]
    }
   ],
   "source": [
    "n_ants = 20\n",
    "n_node = 20\n",
    "k_sparse = 10\n",
    "t_aco = [1, 50, 100, 150, 200, 250]\n",
    "test_list = load_test_dataset(n_node, k_sparse, device)\n",
    "net_tsp = Singlehead_net().to(device)\n",
    "net_tsp.load_state_dict(torch.load(f'../pretrained/tsp/tsp{n_node}.pt', map_location=device))\n",
    "avg_aco_best, duration = test(test_list, net_tsp, n_ants, t_aco, multi=False)\n",
    "print('total duration: ', duration)\n",
    "for i, t in enumerate(t_aco):\n",
    "    print(\"T={}, average cost is {}.\".format(t, avg_aco_best[i]))    "
   ]
  },
  {
   "attachments": {},
   "cell_type": "markdown",
   "metadata": {},
   "source": [
    "### Test on TSP100"
   ]
  },
  {
   "attachments": {},
   "cell_type": "markdown",
   "metadata": {},
   "source": [
    "multihead"
   ]
  },
  {
   "cell_type": "code",
   "execution_count": 12,
   "metadata": {},
   "outputs": [
    {
     "name": "stdout",
     "output_type": "stream",
     "text": [
      "total duration:  1599.5140709877014\n",
      "T=1, average cost is 8.728137016296387.\n",
      "T=10, average cost is 8.289116859436035.\n",
      "T=20, average cost is 8.217846870422363.\n",
      "T=30, average cost is 8.193182945251465.\n",
      "T=40, average cost is 8.177783012390137.\n",
      "T=50, average cost is 8.166511535644531.\n",
      "T=100, average cost is 8.127159118652344.\n"
     ]
    }
   ],
   "source": [
    "n_ants = 100\n",
    "n_node = 100\n",
    "k_sparse = 20\n",
    "t_aco = [1, 10, 20, 30, 40, 50, 100]\n",
    "test_list = load_test_dataset(n_node, k_sparse, device)\n",
    "net_tsp = Multihead_net(n_heads).to(device)\n",
    "net_tsp.load_state_dict(torch.load(f'../pretrained/tsp-spatial/tsp{n_node}.pt', map_location=device))\n",
    "avg_aco_best, duration = test(test_list, net_tsp, n_ants, t_aco, multi=True)\n",
    "print('total duration: ', duration)\n",
    "for i, t in enumerate(t_aco):\n",
    "    print(\"T={}, average cost is {}.\".format(t, avg_aco_best[i]))    "
   ]
  },
  {
   "attachments": {},
   "cell_type": "markdown",
   "metadata": {},
   "source": [
    "singlehead"
   ]
  },
  {
   "cell_type": "code",
   "execution_count": 13,
   "metadata": {},
   "outputs": [
    {
     "name": "stdout",
     "output_type": "stream",
     "text": [
      "total duration:  682.2962992191315\n",
      "T=1, average cost is 8.816386222839355.\n",
      "T=10, average cost is 8.331635475158691.\n",
      "T=20, average cost is 8.264138221740723.\n",
      "T=30, average cost is 8.230011940002441.\n",
      "T=40, average cost is 8.210904121398926.\n",
      "T=50, average cost is 8.19095230102539.\n",
      "T=100, average cost is 8.155533790588379.\n"
     ]
    }
   ],
   "source": [
    "n_ants = 100\n",
    "n_node = 100\n",
    "k_sparse = 20\n",
    "t_aco = [1, 10, 20, 30, 40, 50, 100]\n",
    "test_list = load_test_dataset(n_node, k_sparse, device)\n",
    "net_tsp = Singlehead_net().to(device)\n",
    "net_tsp.load_state_dict(torch.load(f'../pretrained/tsp/tsp{n_node}.pt', map_location=device))\n",
    "avg_aco_best, duration = test(test_list, net_tsp, n_ants, t_aco, multi=False)\n",
    "print('total duration: ', duration)\n",
    "for i, t in enumerate(t_aco):\n",
    "    print(\"T={}, average cost is {}.\".format(t, avg_aco_best[i]))    "
   ]
  }
 ],
 "metadata": {
  "kernelspec": {
   "display_name": "base",
   "language": "python",
   "name": "python3"
  },
  "language_info": {
   "codemirror_mode": {
    "name": "ipython",
    "version": 3
   },
   "file_extension": ".py",
   "mimetype": "text/x-python",
   "name": "python",
   "nbconvert_exporter": "python",
   "pygments_lexer": "ipython3",
   "version": "3.8.16"
  },
  "orig_nbformat": 4,
  "vscode": {
   "interpreter": {
    "hash": "2f394aca7ca06fed1e6064aef884364492d7cdda3614a461e02e6407fc40ba69"
   }
  }
 },
 "nbformat": 4,
 "nbformat_minor": 2
}

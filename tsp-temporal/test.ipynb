{
 "cells": [
  {
   "cell_type": "code",
   "execution_count": 2,
   "metadata": {},
   "outputs": [],
   "source": [
    "import time\n",
    "import torch\n",
    "from torch.distributions import Categorical, kl\n",
    "from d2l.torch import Animator\n",
    "\n",
    "from aco import ACO\n",
    "from utils import load_test_dataset, print_results\n",
    "\n",
    "torch.manual_seed(1234)\n",
    "\n",
    "lr = 3e-4\n",
    "EPS = 1e-10\n",
    "T_max = 250\n",
    "T_update = 50 # in this case, we regenerate heuristic measures in T=50, 100, 150, 200\n",
    "device = 'cuda:0'"
   ]
  },
  {
   "cell_type": "code",
   "execution_count": 3,
   "metadata": {},
   "outputs": [],
   "source": [
    "@torch.no_grad()\n",
    "def infer_instance(model, pyg_data, distances, n_ants, t_aco_diff):\n",
    "    model.eval()\n",
    "    aco = ACO(\n",
    "    n_ants=n_ants,\n",
    "    distances=distances,\n",
    "    device=device\n",
    "    )\n",
    "    \n",
    "    heu_vec = model(pyg_data, 0)\n",
    "    heu_mat = model.reshape(pyg_data, heu_vec) + EPS\n",
    "    \n",
    "    aco.heuristic = heu_mat\n",
    "    \n",
    "    sum_t = 0\n",
    "    results = []\n",
    "    for i, t in enumerate(t_aco_diff):\n",
    "        for _ in range(t):\n",
    "            best_cost = aco.run(1)\n",
    "            sum_t += 1\n",
    "            if sum_t % T_update == 0 and sum_t!= T_max:\n",
    "                heu_vec = model(pyg_data, sum_t//T_update)\n",
    "                heu_mat = model.reshape(pyg_data, heu_vec) + EPS\n",
    "                aco.heuristic = heu_mat\n",
    "        results.append(best_cost.item())\n",
    "    return results\n",
    "\n",
    "@torch.no_grad()\n",
    "def infer_instance_static(model, pyg_data, distances, n_ants, t_aco_diff):\n",
    "    model.eval()\n",
    "    aco = ACO(\n",
    "    n_ants=n_ants,\n",
    "    distances=distances,\n",
    "    device=device\n",
    "    )\n",
    "    \n",
    "    heu_vec = model(pyg_data)\n",
    "    heu_mat = model.reshape(pyg_data, heu_vec) + EPS\n",
    "    \n",
    "    aco.heuristic = heu_mat\n",
    "    results = []\n",
    "    for i, t in enumerate(t_aco_diff):\n",
    "        best_cost = aco.run(t)\n",
    "        results.append(best_cost.item())\n",
    "    return results\n",
    "        \n",
    "    \n",
    "@torch.no_grad()\n",
    "def test(dataset, model, n_ants, t_aco, static):\n",
    "    _t_aco = [0] + t_aco\n",
    "    t_aco_diff = [_t_aco[i+1]-_t_aco[i] for i in range(len(_t_aco)-1)]\n",
    "    all_results = []\n",
    "    start = time.time()\n",
    "    for pyg_data, distances in dataset:\n",
    "        if static:\n",
    "            results = infer_instance_static(model, pyg_data, distances, n_ants, t_aco_diff)\n",
    "        else:\n",
    "            results = infer_instance(model, pyg_data, distances, n_ants, t_aco_diff)\n",
    "        all_results.append(results)\n",
    "    end = time.time()\n",
    "    print('total duration: ', end-start)\n",
    "    print_results(all_results, t_aco)\n",
    "    return results"
   ]
  },
  {
   "attachments": {},
   "cell_type": "markdown",
   "metadata": {},
   "source": [
    "### Test on TSP20"
   ]
  },
  {
   "attachments": {},
   "cell_type": "markdown",
   "metadata": {},
   "source": [
    "Dynamic"
   ]
  },
  {
   "cell_type": "code",
   "execution_count": 3,
   "metadata": {},
   "outputs": [
    {
     "name": "stdout",
     "output_type": "stream",
     "text": [
      "total duration:  353.0747723579407\n",
      "T=1, 3.9111075401306152\n",
      "T=50, 3.8073511123657227\n",
      "T=100, 3.804638147354126\n",
      "T=150, 3.8040575981140137\n",
      "T=200, 3.8035595417022705\n",
      "T=250, 3.8035595417022705\n"
     ]
    }
   ],
   "source": [
    "from net import Net\n",
    "\n",
    "n_node = 20\n",
    "n_ants = 20\n",
    "k_sparse = 10\n",
    "\n",
    "t_aco = [1, 50, 100, 150, 200, 250]\n",
    "test_list = load_test_dataset(n_node, k_sparse, device)\n",
    "net_tsp = Net(T_max // T_update).to(device)\n",
    "net_tsp.load_state_dict(torch.load(f'../pretrained/tsp-temporal/tsp{n_node}.pt', map_location=device))\n",
    "results = test(test_list, net_tsp, n_ants, t_aco, static=False)"
   ]
  },
  {
   "attachments": {},
   "cell_type": "markdown",
   "metadata": {},
   "source": [
    "Static"
   ]
  },
  {
   "cell_type": "code",
   "execution_count": 4,
   "metadata": {},
   "outputs": [
    {
     "name": "stdout",
     "output_type": "stream",
     "text": [
      "total duration:  343.49689078330994\n",
      "T=1, 3.9243578910827637\n",
      "T=50, 3.811661720275879\n",
      "T=100, 3.8096370697021484\n",
      "T=150, 3.8076534271240234\n",
      "T=200, 3.8073697090148926\n",
      "T=250, 3.806710720062256\n"
     ]
    }
   ],
   "source": [
    "import sys\n",
    "sys.path.insert(0, '../')\n",
    "\n",
    "from tsp.net import Net\n",
    "\n",
    "n_node = 20\n",
    "n_ants = 20\n",
    "k_sparse = 10\n",
    "\n",
    "t_aco = [1, 50, 100, 150, 200, 250]\n",
    "test_list = load_test_dataset(n_node, k_sparse, device)\n",
    "net_tsp = Net().to(device)\n",
    "net_tsp.load_state_dict(torch.load(f'../pretrained/tsp/tsp{n_node}.pt', map_location=device))\n",
    "results = test(test_list, net_tsp, n_ants, t_aco, static=True) "
   ]
  },
  {
   "attachments": {},
   "cell_type": "markdown",
   "metadata": {},
   "source": [
    "### Test on TSP100"
   ]
  },
  {
   "attachments": {},
   "cell_type": "markdown",
   "metadata": {},
   "source": [
    "Dynamic"
   ]
  },
  {
   "cell_type": "code",
   "execution_count": 5,
   "metadata": {},
   "outputs": [
    {
     "name": "stdout",
     "output_type": "stream",
     "text": [
      "total duration:  1005.4726014137268\n",
      "T=1, 9.008529663085938\n",
      "T=50, 8.273301124572754\n",
      "T=100, 8.211779594421387\n",
      "T=150, 8.189105033874512\n",
      "T=200, 8.177424430847168\n",
      "T=250, 8.168805122375488\n"
     ]
    }
   ],
   "source": [
    "from net import Net\n",
    "\n",
    "n_node = 100\n",
    "n_ants = 20\n",
    "k_sparse = 20\n",
    "\n",
    "t_aco = [1, 50, 100, 150, 200, 250]\n",
    "test_list = load_test_dataset(n_node, k_sparse, device)\n",
    "net_tsp = Net(T_max // T_update).to(device)\n",
    "net_tsp.load_state_dict(torch.load(f'../pretrained/tsp-temporal/tsp{n_node}.pt', map_location=device))\n",
    "results = test(test_list, net_tsp, n_ants, t_aco, static=False)  "
   ]
  },
  {
   "attachments": {},
   "cell_type": "markdown",
   "metadata": {},
   "source": [
    "Static"
   ]
  },
  {
   "cell_type": "code",
   "execution_count": 4,
   "metadata": {},
   "outputs": [
    {
     "name": "stdout",
     "output_type": "stream",
     "text": [
      "total duration:  1018.3225774765015\n",
      "T=1, 8.971996307373047\n",
      "T=50, 8.279731750488281\n",
      "T=100, 8.23666000366211\n",
      "T=150, 8.20466423034668\n",
      "T=200, 8.188815116882324\n",
      "T=250, 8.17532730102539\n"
     ]
    }
   ],
   "source": [
    "import sys\n",
    "sys.path.insert(0, '../')\n",
    "\n",
    "from tsp.net import Net\n",
    "\n",
    "n_node = 100\n",
    "n_ants = 20\n",
    "k_sparse = 20\n",
    "\n",
    "t_aco = [1, 50, 100, 150, 200, 250]\n",
    "test_list = load_test_dataset(n_node, k_sparse, device)\n",
    "net_tsp = Net().to(device)\n",
    "net_tsp.load_state_dict(torch.load(f'../pretrained/tsp/tsp{n_node}.pt', map_location=device))\n",
    "results = test(test_list, net_tsp, n_ants, t_aco, static=True)  "
   ]
  }
 ],
 "metadata": {
  "kernelspec": {
   "display_name": "base",
   "language": "python",
   "name": "python3"
  },
  "language_info": {
   "codemirror_mode": {
    "name": "ipython",
    "version": 3
   },
   "file_extension": ".py",
   "mimetype": "text/x-python",
   "name": "python",
   "nbconvert_exporter": "python",
   "pygments_lexer": "ipython3",
   "version": "3.8.16"
  },
  "orig_nbformat": 4,
  "vscode": {
   "interpreter": {
    "hash": "2f394aca7ca06fed1e6064aef884364492d7cdda3614a461e02e6407fc40ba69"
   }
  }
 },
 "nbformat": 4,
 "nbformat_minor": 2
}

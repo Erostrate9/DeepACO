{
 "cells": [
  {
   "cell_type": "code",
   "execution_count": 1,
   "metadata": {},
   "outputs": [],
   "source": [
    "import time\n",
    "import torch\n",
    "\n",
    "from net import Net\n",
    "from aco import ACO\n",
    "from utils import load_test_dataset\n",
    "\n",
    "# torch.manual_seed(12345)\n",
    "\n",
    "EPS = 1e-10\n",
    "device = 'cpu'"
   ]
  },
  {
   "cell_type": "code",
   "execution_count": 2,
   "metadata": {},
   "outputs": [],
   "source": [
    "@torch.no_grad()\n",
    "def infer_instance(model, pyg_data, distances, n_ants, t_aco_diff, k_sparse=None):\n",
    "    if model:\n",
    "        model.eval()\n",
    "        heu_vec = model(pyg_data)\n",
    "        heu_mat = model.reshape(pyg_data, heu_vec) + EPS\n",
    "    \n",
    "        aco = ACO(\n",
    "            n_ants=n_ants,\n",
    "            heuristic=heu_mat.cpu(),\n",
    "            distances=distances.cpu(),\n",
    "            device='cpu',\n",
    "            two_opt = True,\n",
    "            elitist=True\n",
    "            # min_max = True\n",
    "        )\n",
    "    \n",
    "    else:\n",
    "        aco = ACO(\n",
    "            n_ants=n_ants,\n",
    "            distances=distances.cpu(),\n",
    "            device='cpu',\n",
    "            two_opt = True,\n",
    "            elitist=True\n",
    "            # min_max = True\n",
    "        )\n",
    "        # if k_sparse:\n",
    "        #     aco.sparsify(k_sparse)\n",
    "        \n",
    "    results = torch.zeros(size=(len(t_aco_diff),))\n",
    "    for i, t in enumerate(t_aco_diff):\n",
    "        best_cost = aco.run(t, inference = True)\n",
    "        results[i] = best_cost\n",
    "    return results\n",
    "        \n",
    "    \n",
    "@torch.no_grad()\n",
    "def test(dataset, model, n_ants, t_aco, k_sparse=None):\n",
    "    _t_aco = [0] + t_aco\n",
    "    t_aco_diff = [_t_aco[i+1]-_t_aco[i] for i in range(len(_t_aco)-1)]\n",
    "    sum_results = torch.zeros(size=(len(t_aco_diff),))\n",
    "    start = time.time()\n",
    "    for pyg_data, distances in dataset:\n",
    "        results = infer_instance(model, pyg_data, distances, n_ants, t_aco_diff, k_sparse)\n",
    "        sum_results += results\n",
    "    end = time.time()\n",
    "    \n",
    "    return sum_results / len(dataset), end-start"
   ]
  },
  {
   "cell_type": "code",
   "execution_count": 3,
   "metadata": {},
   "outputs": [],
   "source": [
    "def compare(n_node, k_sparse = None, n_ants=30, t_aco = None):\n",
    "    global device\n",
    "    k_sparse = k_sparse or max(10, n_node//5)\n",
    "    t_aco = None or [1, 2, 5, 10, 50]\n",
    "    device = 'cpu' if n_node < 200 else 'cuda:0'\n",
    "    test_list = load_test_dataset(n_node, k_sparse, device, start_node = 0)\n",
    "    print(\"number of instances:\", len(test_list))\n",
    "    print(\"device:\", 'cpu' if device == 'cpu' else device+\"+cpu\" )\n",
    "\n",
    "    print(\"=== MetaACO ===\")\n",
    "    net_tsp = Net().to(device)\n",
    "    net_tsp.load_state_dict(torch.load(f'../pretrained/tsp_2opt/tsp{n_node}.pt', map_location=device))\n",
    "    avg_aco_best, duration = test(test_list, net_tsp, n_ants, t_aco, k_sparse)\n",
    "    print('total duration: ', duration)\n",
    "    for i, t in enumerate(t_aco):\n",
    "        print(\"T={}, average cost is {}.\".format(t, avg_aco_best[i]))\n",
    "\n",
    "    return\n",
    "    print(\"=== ACO ===\")\n",
    "    avg_aco_best, duration = test(test_list, None, n_ants, t_aco, k_sparse)\n",
    "    print('total duration: ', duration)\n",
    "    for i, t in enumerate(t_aco):\n",
    "        print(\"T={}, average cost is {}.\".format(t, avg_aco_best[i]))"
   ]
  },
  {
   "cell_type": "code",
   "execution_count": 4,
   "metadata": {},
   "outputs": [
    {
     "name": "stdout",
     "output_type": "stream",
     "text": [
      "number of instances: 1280\n",
      "device: cpu\n",
      "=== MetaACO ===\n",
      "total duration:  171.90954160690308\n",
      "T=1, average cost is 3.843961000442505.\n",
      "T=2, average cost is 3.843041181564331.\n",
      "T=5, average cost is 3.8425045013427734.\n",
      "T=10, average cost is 3.842425584793091.\n",
      "T=50, average cost is 3.8423733711242676.\n"
     ]
    }
   ],
   "source": [
    "compare(20)"
   ]
  },
  {
   "cell_type": "code",
   "execution_count": 4,
   "metadata": {},
   "outputs": [
    {
     "name": "stdout",
     "output_type": "stream",
     "text": [
      "number of instances: 1280\n",
      "device: cpu\n",
      "=== MetaACO ===\n",
      "total duration:  262.5182044506073\n",
      "T=1, average cost is 7.88470458984375.\n",
      "T=2, average cost is 7.856545448303223.\n",
      "T=5, average cost is 7.823596000671387.\n",
      "T=10, average cost is 7.801383018493652.\n",
      "T=50, average cost is 7.7683258056640625.\n"
     ]
    }
   ],
   "source": [
    "compare(100)"
   ]
  },
  {
   "cell_type": "code",
   "execution_count": 5,
   "metadata": {},
   "outputs": [
    {
     "name": "stdout",
     "output_type": "stream",
     "text": [
      "number of instances: 128\n",
      "device: cuda:0+cpu\n",
      "=== MetaACO ===\n",
      "total duration:  1061.2591698169708\n",
      "T=1, average cost is 17.438596725463867.\n",
      "T=2, average cost is 17.3858642578125.\n",
      "T=5, average cost is 17.311433792114258.\n",
      "T=10, average cost is 17.255550384521484.\n",
      "T=50, average cost is 17.02093505859375.\n"
     ]
    }
   ],
   "source": [
    "compare(500)"
   ]
  },
  {
   "cell_type": "code",
   "execution_count": null,
   "metadata": {},
   "outputs": [],
   "source": []
  }
 ],
 "metadata": {
  "kernelspec": {
   "display_name": "torch",
   "language": "python",
   "name": "python3"
  },
  "language_info": {
   "codemirror_mode": {
    "name": "ipython",
    "version": 3
   },
   "file_extension": ".py",
   "mimetype": "text/x-python",
   "name": "python",
   "nbconvert_exporter": "python",
   "pygments_lexer": "ipython3",
   "version": "3.9.13"
  },
  "orig_nbformat": 4,
  "vscode": {
   "interpreter": {
    "hash": "a93e3d9460341b3566123144586be69108c80018542c7977bec35f4a26a80b82"
   }
  }
 },
 "nbformat": 4,
 "nbformat_minor": 2
}
